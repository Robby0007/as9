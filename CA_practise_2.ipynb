{
 "cells": [
  {
   "cell_type": "markdown",
   "metadata": {},
   "source": [
    "#  CA Practise Lab2\n"
   ]
  },
  {
   "cell_type": "code",
   "execution_count": 1,
   "metadata": {
    "collapsed": false
   },
   "outputs": [
    {
     "data": {
      "text/plain": [
       "34"
      ]
     },
     "execution_count": 1,
     "metadata": {},
     "output_type": "execute_result"
    }
   ],
   "source": [
    "34"
   ]
  },
  {
   "cell_type": "code",
   "execution_count": 2,
   "metadata": {
    "collapsed": true
   },
   "outputs": [],
   "source": [
    "num = 34"
   ]
  },
  {
   "cell_type": "code",
   "execution_count": 3,
   "metadata": {
    "collapsed": false
   },
   "outputs": [
    {
     "name": "stdout",
     "output_type": "stream",
     "text": [
      "34\n"
     ]
    }
   ],
   "source": [
    "print(num)"
   ]
  },
  {
   "cell_type": "code",
   "execution_count": 4,
   "metadata": {
    "collapsed": false
   },
   "outputs": [
    {
     "data": {
      "text/plain": [
       "'--------------------'"
      ]
     },
     "execution_count": 4,
     "metadata": {},
     "output_type": "execute_result"
    }
   ],
   "source": [
    "minus_sign = '-'\n",
    "minus_sign * 20"
   ]
  },
  {
   "cell_type": "code",
   "execution_count": 5,
   "metadata": {
    "collapsed": false
   },
   "outputs": [
    {
     "name": "stdout",
     "output_type": "stream",
     "text": [
      "34\n",
      "34\n",
      "34\n"
     ]
    }
   ],
   "source": [
    "print(num)\n",
    "print(num)\n",
    "print(num)"
   ]
  },
  {
   "cell_type": "code",
   "execution_count": 6,
   "metadata": {
    "collapsed": false
   },
   "outputs": [
    {
     "name": "stdout",
     "output_type": "stream",
     "text": [
      "34*34*34*"
     ]
    }
   ],
   "source": [
    "print(num, end = '*')\n",
    "print(num, end = '*')\n",
    "print(num, end = '*')"
   ]
  },
  {
   "cell_type": "code",
   "execution_count": 7,
   "metadata": {
    "collapsed": false
   },
   "outputs": [
    {
     "name": "stdout",
     "output_type": "stream",
     "text": [
      "34 34 34 "
     ]
    }
   ],
   "source": [
    "print(num, end = ' ')\n",
    "print(num, end = ' ')\n",
    "print(num, end = ' ')"
   ]
  },
  {
   "cell_type": "code",
   "execution_count": 8,
   "metadata": {
    "collapsed": false
   },
   "outputs": [
    {
     "name": "stdout",
     "output_type": "stream",
     "text": [
      "34 3434 "
     ]
    }
   ],
   "source": [
    "print(num, end = ' ')\n",
    "print(num, end = '')\n",
    "print(num, end = ' ')"
   ]
  },
  {
   "cell_type": "code",
   "execution_count": 9,
   "metadata": {
    "collapsed": false
   },
   "outputs": [
    {
     "data": {
      "text/plain": [
       "'3 * 4'"
      ]
     },
     "execution_count": 9,
     "metadata": {},
     "output_type": "execute_result"
    }
   ],
   "source": [
    "some_text = '3 * 4'\n",
    "some_text"
   ]
  },
  {
   "cell_type": "code",
   "execution_count": 10,
   "metadata": {
    "collapsed": false
   },
   "outputs": [
    {
     "name": "stdout",
     "output_type": "stream",
     "text": [
      "3 * 4\n"
     ]
    }
   ],
   "source": [
    "print(some_text)"
   ]
  },
  {
   "cell_type": "code",
   "execution_count": 11,
   "metadata": {
    "collapsed": false
   },
   "outputs": [
    {
     "data": {
      "text/plain": [
       "12"
      ]
     },
     "execution_count": 11,
     "metadata": {},
     "output_type": "execute_result"
    }
   ],
   "source": [
    "eval(some_text)"
   ]
  },
  {
   "cell_type": "code",
   "execution_count": 12,
   "metadata": {
    "collapsed": false
   },
   "outputs": [
    {
     "name": "stdout",
     "output_type": "stream",
     "text": [
      "enter an expression: 2 + 4 * 2\n"
     ]
    }
   ],
   "source": [
    "expression = input(\"enter an expression: \")"
   ]
  },
  {
   "cell_type": "code",
   "execution_count": 13,
   "metadata": {
    "collapsed": false
   },
   "outputs": [
    {
     "name": "stdout",
     "output_type": "stream",
     "text": [
      "enter an expression: 2+4\n"
     ]
    },
    {
     "data": {
      "text/plain": [
       "6"
      ]
     },
     "execution_count": 13,
     "metadata": {},
     "output_type": "execute_result"
    }
   ],
   "source": [
    "expression = input(\"enter an expression: \")\n",
    "eval(expression)"
   ]
  },
  {
   "cell_type": "code",
   "execution_count": 14,
   "metadata": {
    "collapsed": false
   },
   "outputs": [
    {
     "data": {
      "text/plain": [
       "['2+4']"
      ]
     },
     "execution_count": 14,
     "metadata": {},
     "output_type": "execute_result"
    }
   ],
   "source": [
    "expression.split(' ')"
   ]
  },
  {
   "cell_type": "code",
   "execution_count": 15,
   "metadata": {
    "collapsed": false
   },
   "outputs": [
    {
     "ename": "ValueError",
     "evalue": "empty separator",
     "output_type": "error",
     "traceback": [
      "\u001b[0;31m---------------------------------------------------------------------------\u001b[0m",
      "\u001b[0;31mValueError\u001b[0m                                Traceback (most recent call last)",
      "\u001b[0;32m<ipython-input-15-ee38aa9a870e>\u001b[0m in \u001b[0;36m<module>\u001b[0;34m()\u001b[0m\n\u001b[0;32m----> 1\u001b[0;31m \u001b[0mexpression\u001b[0m\u001b[1;33m.\u001b[0m\u001b[0msplit\u001b[0m\u001b[1;33m(\u001b[0m\u001b[1;34m''\u001b[0m\u001b[1;33m)\u001b[0m\u001b[1;33m\u001b[0m\u001b[0m\n\u001b[0m",
      "\u001b[0;31mValueError\u001b[0m: empty separator"
     ]
    }
   ],
   "source": [
    "expression.split('')"
   ]
  },
  {
   "cell_type": "code",
   "execution_count": 16,
   "metadata": {
    "collapsed": false
   },
   "outputs": [
    {
     "name": "stdout",
     "output_type": "stream",
     "text": [
      "enter an expression: 2 * 3 + ( 4 * 5 )\n"
     ]
    },
    {
     "data": {
      "text/plain": [
       "26"
      ]
     },
     "execution_count": 16,
     "metadata": {},
     "output_type": "execute_result"
    }
   ],
   "source": [
    "expression = input(\"enter an expression: \")\n",
    "eval(expression)"
   ]
  },
  {
   "cell_type": "code",
   "execution_count": 17,
   "metadata": {
    "collapsed": false
   },
   "outputs": [
    {
     "data": {
      "text/plain": [
       "['2', '*', '3', '+', '(', '4', '*', '5', ')']"
      ]
     },
     "execution_count": 17,
     "metadata": {},
     "output_type": "execute_result"
    }
   ],
   "source": [
    "expression.split(' ')"
   ]
  },
  {
   "cell_type": "code",
   "execution_count": 18,
   "metadata": {
    "collapsed": false
   },
   "outputs": [
    {
     "data": {
      "text/plain": [
       "['__add__',\n",
       " '__class__',\n",
       " '__contains__',\n",
       " '__delattr__',\n",
       " '__dir__',\n",
       " '__doc__',\n",
       " '__eq__',\n",
       " '__format__',\n",
       " '__ge__',\n",
       " '__getattribute__',\n",
       " '__getitem__',\n",
       " '__getnewargs__',\n",
       " '__gt__',\n",
       " '__hash__',\n",
       " '__init__',\n",
       " '__init_subclass__',\n",
       " '__iter__',\n",
       " '__le__',\n",
       " '__len__',\n",
       " '__lt__',\n",
       " '__mod__',\n",
       " '__mul__',\n",
       " '__ne__',\n",
       " '__new__',\n",
       " '__reduce__',\n",
       " '__reduce_ex__',\n",
       " '__repr__',\n",
       " '__rmod__',\n",
       " '__rmul__',\n",
       " '__setattr__',\n",
       " '__sizeof__',\n",
       " '__str__',\n",
       " '__subclasshook__',\n",
       " 'capitalize',\n",
       " 'casefold',\n",
       " 'center',\n",
       " 'count',\n",
       " 'encode',\n",
       " 'endswith',\n",
       " 'expandtabs',\n",
       " 'find',\n",
       " 'format',\n",
       " 'format_map',\n",
       " 'index',\n",
       " 'isalnum',\n",
       " 'isalpha',\n",
       " 'isdecimal',\n",
       " 'isdigit',\n",
       " 'isidentifier',\n",
       " 'islower',\n",
       " 'isnumeric',\n",
       " 'isprintable',\n",
       " 'isspace',\n",
       " 'istitle',\n",
       " 'isupper',\n",
       " 'join',\n",
       " 'ljust',\n",
       " 'lower',\n",
       " 'lstrip',\n",
       " 'maketrans',\n",
       " 'partition',\n",
       " 'replace',\n",
       " 'rfind',\n",
       " 'rindex',\n",
       " 'rjust',\n",
       " 'rpartition',\n",
       " 'rsplit',\n",
       " 'rstrip',\n",
       " 'split',\n",
       " 'splitlines',\n",
       " 'startswith',\n",
       " 'strip',\n",
       " 'swapcase',\n",
       " 'title',\n",
       " 'translate',\n",
       " 'upper',\n",
       " 'zfill']"
      ]
     },
     "execution_count": 18,
     "metadata": {},
     "output_type": "execute_result"
    }
   ],
   "source": [
    "dir(expression)"
   ]
  },
  {
   "cell_type": "code",
   "execution_count": 19,
   "metadata": {
    "collapsed": false
   },
   "outputs": [
    {
     "data": {
      "text/plain": [
       "False"
      ]
     },
     "execution_count": 19,
     "metadata": {},
     "output_type": "execute_result"
    }
   ],
   "source": [
    "expression.startswith(\"w\")"
   ]
  },
  {
   "cell_type": "code",
   "execution_count": 20,
   "metadata": {
    "collapsed": false
   },
   "outputs": [
    {
     "data": {
      "text/plain": [
       "True"
      ]
     },
     "execution_count": 20,
     "metadata": {},
     "output_type": "execute_result"
    }
   ],
   "source": [
    "expression.startswith(\"2\")"
   ]
  },
  {
   "cell_type": "code",
   "execution_count": 21,
   "metadata": {
    "collapsed": true
   },
   "outputs": [],
   "source": [
    "word = \"python\""
   ]
  },
  {
   "cell_type": "code",
   "execution_count": 22,
   "metadata": {
    "collapsed": false
   },
   "outputs": [
    {
     "data": {
      "text/plain": [
       "True"
      ]
     },
     "execution_count": 22,
     "metadata": {},
     "output_type": "execute_result"
    }
   ],
   "source": [
    "word.startswith(\"p\")"
   ]
  },
  {
   "cell_type": "code",
   "execution_count": 23,
   "metadata": {
    "collapsed": false
   },
   "outputs": [
    {
     "data": {
      "text/plain": [
       "False"
      ]
     },
     "execution_count": 23,
     "metadata": {},
     "output_type": "execute_result"
    }
   ],
   "source": [
    "word.startswith(\"a\")"
   ]
  },
  {
   "cell_type": "code",
   "execution_count": 24,
   "metadata": {
    "collapsed": false
   },
   "outputs": [
    {
     "data": {
      "text/plain": [
       "'p'"
      ]
     },
     "execution_count": 24,
     "metadata": {},
     "output_type": "execute_result"
    }
   ],
   "source": [
    "word[0]"
   ]
  },
  {
   "cell_type": "code",
   "execution_count": 25,
   "metadata": {
    "collapsed": false
   },
   "outputs": [
    {
     "data": {
      "text/plain": [
       "'o'"
      ]
     },
     "execution_count": 25,
     "metadata": {},
     "output_type": "execute_result"
    }
   ],
   "source": [
    "word[-2]"
   ]
  },
  {
   "cell_type": "code",
   "execution_count": 26,
   "metadata": {
    "collapsed": false
   },
   "outputs": [
    {
     "data": {
      "text/plain": [
       "'python'"
      ]
     },
     "execution_count": 26,
     "metadata": {},
     "output_type": "execute_result"
    }
   ],
   "source": [
    "word[0:]"
   ]
  },
  {
   "cell_type": "code",
   "execution_count": 27,
   "metadata": {
    "collapsed": false
   },
   "outputs": [
    {
     "name": "stdout",
     "output_type": "stream",
     "text": [
      "blaha sjdfskdjfss\n"
     ]
    },
    {
     "data": {
      "text/plain": [
       "'ss'"
      ]
     },
     "execution_count": 27,
     "metadata": {},
     "output_type": "execute_result"
    }
   ],
   "source": [
    "input(\"blaha sjdfskdjf\")"
   ]
  },
  {
   "cell_type": "code",
   "execution_count": 28,
   "metadata": {
    "collapsed": false
   },
   "outputs": [
    {
     "data": {
      "text/plain": [
       "'nohtyp'"
      ]
     },
     "execution_count": 28,
     "metadata": {},
     "output_type": "execute_result"
    }
   ],
   "source": [
    "word[::-1]"
   ]
  },
  {
   "cell_type": "code",
   "execution_count": 29,
   "metadata": {
    "collapsed": false
   },
   "outputs": [
    {
     "data": {
      "text/plain": [
       "'pyth'"
      ]
     },
     "execution_count": 29,
     "metadata": {},
     "output_type": "execute_result"
    }
   ],
   "source": [
    "word[:-2]"
   ]
  },
  {
   "cell_type": "code",
   "execution_count": 30,
   "metadata": {
    "collapsed": false
   },
   "outputs": [
    {
     "data": {
      "text/plain": [
       "'pytho'"
      ]
     },
     "execution_count": 30,
     "metadata": {},
     "output_type": "execute_result"
    }
   ],
   "source": [
    "word[:-1]"
   ]
  },
  {
   "cell_type": "code",
   "execution_count": 31,
   "metadata": {
    "collapsed": false
   },
   "outputs": [
    {
     "data": {
      "text/plain": [
       "''"
      ]
     },
     "execution_count": 31,
     "metadata": {},
     "output_type": "execute_result"
    }
   ],
   "source": [
    "word[:0]"
   ]
  },
  {
   "cell_type": "code",
   "execution_count": 32,
   "metadata": {
    "collapsed": false
   },
   "outputs": [
    {
     "data": {
      "text/plain": [
       "['__add__',\n",
       " '__class__',\n",
       " '__contains__',\n",
       " '__delattr__',\n",
       " '__dir__',\n",
       " '__doc__',\n",
       " '__eq__',\n",
       " '__format__',\n",
       " '__ge__',\n",
       " '__getattribute__',\n",
       " '__getitem__',\n",
       " '__getnewargs__',\n",
       " '__gt__',\n",
       " '__hash__',\n",
       " '__init__',\n",
       " '__init_subclass__',\n",
       " '__iter__',\n",
       " '__le__',\n",
       " '__len__',\n",
       " '__lt__',\n",
       " '__mod__',\n",
       " '__mul__',\n",
       " '__ne__',\n",
       " '__new__',\n",
       " '__reduce__',\n",
       " '__reduce_ex__',\n",
       " '__repr__',\n",
       " '__rmod__',\n",
       " '__rmul__',\n",
       " '__setattr__',\n",
       " '__sizeof__',\n",
       " '__str__',\n",
       " '__subclasshook__',\n",
       " 'capitalize',\n",
       " 'casefold',\n",
       " 'center',\n",
       " 'count',\n",
       " 'encode',\n",
       " 'endswith',\n",
       " 'expandtabs',\n",
       " 'find',\n",
       " 'format',\n",
       " 'format_map',\n",
       " 'index',\n",
       " 'isalnum',\n",
       " 'isalpha',\n",
       " 'isdecimal',\n",
       " 'isdigit',\n",
       " 'isidentifier',\n",
       " 'islower',\n",
       " 'isnumeric',\n",
       " 'isprintable',\n",
       " 'isspace',\n",
       " 'istitle',\n",
       " 'isupper',\n",
       " 'join',\n",
       " 'ljust',\n",
       " 'lower',\n",
       " 'lstrip',\n",
       " 'maketrans',\n",
       " 'partition',\n",
       " 'replace',\n",
       " 'rfind',\n",
       " 'rindex',\n",
       " 'rjust',\n",
       " 'rpartition',\n",
       " 'rsplit',\n",
       " 'rstrip',\n",
       " 'split',\n",
       " 'splitlines',\n",
       " 'startswith',\n",
       " 'strip',\n",
       " 'swapcase',\n",
       " 'title',\n",
       " 'translate',\n",
       " 'upper',\n",
       " 'zfill']"
      ]
     },
     "execution_count": 32,
     "metadata": {},
     "output_type": "execute_result"
    }
   ],
   "source": [
    "dir(word)"
   ]
  },
  {
   "cell_type": "code",
   "execution_count": 33,
   "metadata": {
    "collapsed": false
   },
   "outputs": [
    {
     "data": {
      "text/plain": [
       "<reversed at 0x4af55f8>"
      ]
     },
     "execution_count": 33,
     "metadata": {},
     "output_type": "execute_result"
    }
   ],
   "source": [
    "reversed(word)"
   ]
  },
  {
   "cell_type": "code",
   "execution_count": 34,
   "metadata": {
    "collapsed": false
   },
   "outputs": [
    {
     "data": {
      "text/plain": [
       "['n', 'o', 'h', 't', 'y', 'p']"
      ]
     },
     "execution_count": 34,
     "metadata": {},
     "output_type": "execute_result"
    }
   ],
   "source": [
    "list(reversed(word))"
   ]
  },
  {
   "cell_type": "code",
   "execution_count": 35,
   "metadata": {
    "collapsed": false
   },
   "outputs": [
    {
     "data": {
      "text/plain": [
       "['p', 'y', 't', 'h', 'o', 'n']"
      ]
     },
     "execution_count": 35,
     "metadata": {},
     "output_type": "execute_result"
    }
   ],
   "source": [
    "list(word)"
   ]
  },
  {
   "cell_type": "code",
   "execution_count": 36,
   "metadata": {
    "collapsed": false
   },
   "outputs": [
    {
     "name": "stdout",
     "output_type": "stream",
     "text": [
      "0,1,2,3,4,5,6,7,8,9,"
     ]
    }
   ],
   "source": [
    "for i in range(10):\n",
    "    print(i, end = ',')"
   ]
  },
  {
   "cell_type": "code",
   "execution_count": 37,
   "metadata": {
    "collapsed": false
   },
   "outputs": [
    {
     "name": "stdout",
     "output_type": "stream",
     "text": [
      "0\n",
      "1\n",
      "2\n",
      "3\n",
      "4\n",
      "5\n",
      "6\n",
      "7\n",
      "8\n",
      "9\n"
     ]
    }
   ],
   "source": [
    "for i in range(10):\n",
    "    print(i)"
   ]
  },
  {
   "cell_type": "code",
   "execution_count": 38,
   "metadata": {
    "collapsed": false
   },
   "outputs": [
    {
     "ename": "TypeError",
     "evalue": "'str' object is not an iterator",
     "output_type": "error",
     "traceback": [
      "\u001b[0;31m---------------------------------------------------------------------------\u001b[0m",
      "\u001b[0;31mTypeError\u001b[0m                                 Traceback (most recent call last)",
      "\u001b[0;32m<ipython-input-38-f03b32ab19ae>\u001b[0m in \u001b[0;36m<module>\u001b[0;34m()\u001b[0m\n\u001b[0;32m----> 1\u001b[0;31m \u001b[0mnext\u001b[0m\u001b[1;33m(\u001b[0m\u001b[0mword\u001b[0m\u001b[1;33m)\u001b[0m\u001b[1;33m\u001b[0m\u001b[0m\n\u001b[0m",
      "\u001b[0;31mTypeError\u001b[0m: 'str' object is not an iterator"
     ]
    }
   ],
   "source": [
    "next(word)"
   ]
  },
  {
   "cell_type": "code",
   "execution_count": 39,
   "metadata": {
    "collapsed": false
   },
   "outputs": [
    {
     "ename": "TypeError",
     "evalue": "'list' object is not an iterator",
     "output_type": "error",
     "traceback": [
      "\u001b[0;31m---------------------------------------------------------------------------\u001b[0m",
      "\u001b[0;31mTypeError\u001b[0m                                 Traceback (most recent call last)",
      "\u001b[0;32m<ipython-input-39-8529e732ebcf>\u001b[0m in \u001b[0;36m<module>\u001b[0;34m()\u001b[0m\n\u001b[0;32m----> 1\u001b[0;31m \u001b[0mnext\u001b[0m\u001b[1;33m(\u001b[0m\u001b[0mlist\u001b[0m\u001b[1;33m(\u001b[0m\u001b[0mword\u001b[0m\u001b[1;33m)\u001b[0m\u001b[1;33m)\u001b[0m\u001b[1;33m\u001b[0m\u001b[0m\n\u001b[0m",
      "\u001b[0;31mTypeError\u001b[0m: 'list' object is not an iterator"
     ]
    }
   ],
   "source": [
    "next(list(word))"
   ]
  },
  {
   "cell_type": "code",
   "execution_count": 40,
   "metadata": {
    "collapsed": false
   },
   "outputs": [
    {
     "data": {
      "text/plain": [
       "<reversed at 0x4b02208>"
      ]
     },
     "execution_count": 40,
     "metadata": {},
     "output_type": "execute_result"
    }
   ],
   "source": [
    "letters = reversed(word)\n",
    "letters"
   ]
  },
  {
   "cell_type": "code",
   "execution_count": 41,
   "metadata": {
    "collapsed": false
   },
   "outputs": [
    {
     "data": {
      "text/plain": [
       "'n'"
      ]
     },
     "execution_count": 41,
     "metadata": {},
     "output_type": "execute_result"
    }
   ],
   "source": [
    "next(letters)"
   ]
  },
  {
   "cell_type": "code",
   "execution_count": 42,
   "metadata": {
    "collapsed": false
   },
   "outputs": [
    {
     "data": {
      "text/plain": [
       "'o'"
      ]
     },
     "execution_count": 42,
     "metadata": {},
     "output_type": "execute_result"
    }
   ],
   "source": [
    "next(letters)"
   ]
  },
  {
   "cell_type": "code",
   "execution_count": 43,
   "metadata": {
    "collapsed": false
   },
   "outputs": [
    {
     "data": {
      "text/plain": [
       "'h'"
      ]
     },
     "execution_count": 43,
     "metadata": {},
     "output_type": "execute_result"
    }
   ],
   "source": [
    "next(letters)"
   ]
  },
  {
   "cell_type": "code",
   "execution_count": 44,
   "metadata": {
    "collapsed": false
   },
   "outputs": [
    {
     "ename": "NameError",
     "evalue": "name 'prev' is not defined",
     "output_type": "error",
     "traceback": [
      "\u001b[0;31m---------------------------------------------------------------------------\u001b[0m",
      "\u001b[0;31mNameError\u001b[0m                                 Traceback (most recent call last)",
      "\u001b[0;32m<ipython-input-44-e321818ec271>\u001b[0m in \u001b[0;36m<module>\u001b[0;34m()\u001b[0m\n\u001b[0;32m----> 1\u001b[0;31m \u001b[0mprev\u001b[0m\u001b[1;33m(\u001b[0m\u001b[0mletters\u001b[0m\u001b[1;33m)\u001b[0m\u001b[1;33m\u001b[0m\u001b[0m\n\u001b[0m",
      "\u001b[0;31mNameError\u001b[0m: name 'prev' is not defined"
     ]
    }
   ],
   "source": [
    "prev(letters)"
   ]
  },
  {
   "cell_type": "code",
   "execution_count": 45,
   "metadata": {
    "collapsed": false
   },
   "outputs": [
    {
     "data": {
      "text/plain": [
       "['__class__',\n",
       " '__delattr__',\n",
       " '__dir__',\n",
       " '__doc__',\n",
       " '__eq__',\n",
       " '__format__',\n",
       " '__ge__',\n",
       " '__getattribute__',\n",
       " '__gt__',\n",
       " '__hash__',\n",
       " '__init__',\n",
       " '__init_subclass__',\n",
       " '__iter__',\n",
       " '__le__',\n",
       " '__length_hint__',\n",
       " '__lt__',\n",
       " '__ne__',\n",
       " '__new__',\n",
       " '__next__',\n",
       " '__reduce__',\n",
       " '__reduce_ex__',\n",
       " '__repr__',\n",
       " '__setattr__',\n",
       " '__setstate__',\n",
       " '__sizeof__',\n",
       " '__str__',\n",
       " '__subclasshook__']"
      ]
     },
     "execution_count": 45,
     "metadata": {},
     "output_type": "execute_result"
    }
   ],
   "source": [
    "dir(letters)"
   ]
  },
  {
   "cell_type": "code",
   "execution_count": 46,
   "metadata": {
    "collapsed": false
   },
   "outputs": [
    {
     "data": {
      "text/plain": [
       "[3, 5, 7, 8, 9, 7]"
      ]
     },
     "execution_count": 46,
     "metadata": {},
     "output_type": "execute_result"
    }
   ],
   "source": [
    "lotto = [3, 5, 7, 8, 9, 7]\n",
    "lotto"
   ]
  },
  {
   "cell_type": "code",
   "execution_count": 47,
   "metadata": {
    "collapsed": false
   },
   "outputs": [
    {
     "name": "stdout",
     "output_type": "stream",
     "text": [
      "[3, 5, 7, 8, 9, 7]\n"
     ]
    }
   ],
   "source": [
    "print(lotto)"
   ]
  },
  {
   "cell_type": "code",
   "execution_count": 48,
   "metadata": {
    "collapsed": false
   },
   "outputs": [
    {
     "data": {
      "text/plain": [
       "[3, 5, 7, 7, 8, 9]"
      ]
     },
     "execution_count": 48,
     "metadata": {},
     "output_type": "execute_result"
    }
   ],
   "source": [
    "order_numbers = sorted(lotto)\n",
    "order_numbers"
   ]
  },
  {
   "cell_type": "code",
   "execution_count": 49,
   "metadata": {
    "collapsed": false
   },
   "outputs": [
    {
     "data": {
      "text/plain": [
       "{3, 5, 7, 8, 9}"
      ]
     },
     "execution_count": 49,
     "metadata": {},
     "output_type": "execute_result"
    }
   ],
   "source": [
    "{3,5,7,7,8,9}"
   ]
  },
  {
   "cell_type": "code",
   "execution_count": 50,
   "metadata": {
    "collapsed": true
   },
   "outputs": [],
   "source": [
    "def say_hello():\n",
    "    print(\"Hi\")"
   ]
  },
  {
   "cell_type": "code",
   "execution_count": 51,
   "metadata": {
    "collapsed": false
   },
   "outputs": [
    {
     "name": "stdout",
     "output_type": "stream",
     "text": [
      "Hi\n"
     ]
    }
   ],
   "source": [
    "say_hello()"
   ]
  },
  {
   "cell_type": "code",
   "execution_count": 52,
   "metadata": {
    "collapsed": false
   },
   "outputs": [
    {
     "data": {
      "text/plain": [
       "{3, 5, 7, 8, 9}"
      ]
     },
     "execution_count": 52,
     "metadata": {},
     "output_type": "execute_result"
    }
   ],
   "source": [
    "{3,5,7,7,8,9}"
   ]
  },
  {
   "cell_type": "code",
   "execution_count": 53,
   "metadata": {
    "collapsed": false
   },
   "outputs": [
    {
     "data": {
      "text/plain": [
       "15"
      ]
     },
     "execution_count": 53,
     "metadata": {},
     "output_type": "execute_result"
    }
   ],
   "source": [
    "def say_hello():\n",
    "    print(\"Hi\")\n",
    "    print(\"there\")\n",
    "    \n",
    "5 * 3"
   ]
  },
  {
   "cell_type": "code",
   "execution_count": 54,
   "metadata": {
    "collapsed": true
   },
   "outputs": [],
   "source": [
    "blah = say_hello"
   ]
  },
  {
   "cell_type": "code",
   "execution_count": 55,
   "metadata": {
    "collapsed": false
   },
   "outputs": [
    {
     "name": "stdout",
     "output_type": "stream",
     "text": [
      "Hi\n",
      "there\n"
     ]
    }
   ],
   "source": [
    "blah()"
   ]
  },
  {
   "cell_type": "code",
   "execution_count": 56,
   "metadata": {
    "collapsed": false
   },
   "outputs": [
    {
     "name": "stdout",
     "output_type": "stream",
     "text": [
      "Hi\n",
      "there\n"
     ]
    }
   ],
   "source": [
    "blah = say_hello()"
   ]
  },
  {
   "cell_type": "code",
   "execution_count": 57,
   "metadata": {
    "collapsed": true
   },
   "outputs": [],
   "source": [
    "blah"
   ]
  },
  {
   "cell_type": "code",
   "execution_count": 58,
   "metadata": {
    "collapsed": false
   },
   "outputs": [
    {
     "ename": "TypeError",
     "evalue": "'NoneType' object is not callable",
     "output_type": "error",
     "traceback": [
      "\u001b[0;31m---------------------------------------------------------------------------\u001b[0m",
      "\u001b[0;31mTypeError\u001b[0m                                 Traceback (most recent call last)",
      "\u001b[0;32m<ipython-input-58-f34bc58c013e>\u001b[0m in \u001b[0;36m<module>\u001b[0;34m()\u001b[0m\n\u001b[0;32m----> 1\u001b[0;31m \u001b[0mblah\u001b[0m\u001b[1;33m(\u001b[0m\u001b[1;33m)\u001b[0m\u001b[1;33m\u001b[0m\u001b[0m\n\u001b[0m",
      "\u001b[0;31mTypeError\u001b[0m: 'NoneType' object is not callable"
     ]
    }
   ],
   "source": [
    "blah()"
   ]
  },
  {
   "cell_type": "code",
   "execution_count": 59,
   "metadata": {
    "collapsed": true
   },
   "outputs": [],
   "source": [
    "blah = say_hello"
   ]
  },
  {
   "cell_type": "code",
   "execution_count": 60,
   "metadata": {
    "collapsed": true
   },
   "outputs": [],
   "source": [
    "def say_hello_to(name):\n",
    "    print(\"Hi %s\" % name)"
   ]
  },
  {
   "cell_type": "code",
   "execution_count": 61,
   "metadata": {
    "collapsed": false
   },
   "outputs": [
    {
     "ename": "NameError",
     "evalue": "name 'John' is not defined",
     "output_type": "error",
     "traceback": [
      "\u001b[0;31m---------------------------------------------------------------------------\u001b[0m",
      "\u001b[0;31mNameError\u001b[0m                                 Traceback (most recent call last)",
      "\u001b[0;32m<ipython-input-61-4e2768d087e1>\u001b[0m in \u001b[0;36m<module>\u001b[0;34m()\u001b[0m\n\u001b[0;32m----> 1\u001b[0;31m \u001b[0msay_hello_to\u001b[0m\u001b[1;33m(\u001b[0m\u001b[0mJohn\u001b[0m\u001b[1;33m)\u001b[0m\u001b[1;33m\u001b[0m\u001b[0m\n\u001b[0m",
      "\u001b[0;31mNameError\u001b[0m: name 'John' is not defined"
     ]
    }
   ],
   "source": [
    "say_hello_to(John)"
   ]
  },
  {
   "cell_type": "code",
   "execution_count": 62,
   "metadata": {
    "collapsed": false
   },
   "outputs": [
    {
     "name": "stdout",
     "output_type": "stream",
     "text": [
      "Hi John\n"
     ]
    }
   ],
   "source": [
    "say_hello_to('John')"
   ]
  },
  {
   "cell_type": "code",
   "execution_count": 63,
   "metadata": {
    "collapsed": true
   },
   "outputs": [],
   "source": [
    "sentence = \"here is a word: %s\" % \"EARTH\""
   ]
  },
  {
   "cell_type": "code",
   "execution_count": 64,
   "metadata": {
    "collapsed": true
   },
   "outputs": [],
   "source": [
    "def show_num(num):\n",
    "    print(num)"
   ]
  },
  {
   "cell_type": "code",
   "execution_count": 65,
   "metadata": {
    "collapsed": false
   },
   "outputs": [
    {
     "name": "stdout",
     "output_type": "stream",
     "text": [
      "5\n"
     ]
    }
   ],
   "source": [
    "show_num(5)"
   ]
  },
  {
   "cell_type": "code",
   "execution_count": 66,
   "metadata": {
    "collapsed": true
   },
   "outputs": [],
   "source": [
    "def show_num(number):\n",
    "    print(\"The number is %s\" % number)"
   ]
  },
  {
   "cell_type": "code",
   "execution_count": 67,
   "metadata": {
    "collapsed": false
   },
   "outputs": [
    {
     "name": "stdout",
     "output_type": "stream",
     "text": [
      "The number is 5\n"
     ]
    }
   ],
   "source": [
    "show_num(5)"
   ]
  },
  {
   "cell_type": "code",
   "execution_count": 68,
   "metadata": {
    "collapsed": false
   },
   "outputs": [
    {
     "name": "stdout",
     "output_type": "stream",
     "text": [
      "The number is 3\n"
     ]
    }
   ],
   "source": [
    "show_num(\"3\")"
   ]
  },
  {
   "cell_type": "code",
   "execution_count": 69,
   "metadata": {
    "collapsed": false
   },
   "outputs": [
    {
     "name": "stdout",
     "output_type": "stream",
     "text": [
      "The number is 2.4\n"
     ]
    }
   ],
   "source": [
    "show_num(2.4)"
   ]
  },
  {
   "cell_type": "code",
   "execution_count": 71,
   "metadata": {
    "collapsed": false
   },
   "outputs": [
    {
     "ename": "TypeError",
     "evalue": "show_num() takes 1 positional argument but 2 were given",
     "output_type": "error",
     "traceback": [
      "\u001b[0;31m---------------------------------------------------------------------------\u001b[0m",
      "\u001b[0;31mTypeError\u001b[0m                                 Traceback (most recent call last)",
      "\u001b[0;32m<ipython-input-71-5e228eb04aa3>\u001b[0m in \u001b[0;36m<module>\u001b[0;34m()\u001b[0m\n\u001b[0;32m----> 1\u001b[0;31m \u001b[0mshow_num\u001b[0m\u001b[1;33m(\u001b[0m\u001b[1;36m2\u001b[0m\u001b[1;33m,\u001b[0m\u001b[1;36m5\u001b[0m\u001b[1;33m)\u001b[0m\u001b[1;33m\u001b[0m\u001b[0m\n\u001b[0m",
      "\u001b[0;31mTypeError\u001b[0m: show_num() takes 1 positional argument but 2 were given"
     ]
    }
   ],
   "source": [
    "show_num(2,5)"
   ]
  },
  {
   "cell_type": "code",
   "execution_count": 72,
   "metadata": {
    "collapsed": false
   },
   "outputs": [
    {
     "ename": "TypeError",
     "evalue": "show_num() missing 1 required positional argument: 'number'",
     "output_type": "error",
     "traceback": [
      "\u001b[0;31m---------------------------------------------------------------------------\u001b[0m",
      "\u001b[0;31mTypeError\u001b[0m                                 Traceback (most recent call last)",
      "\u001b[0;32m<ipython-input-72-c292278c0fb6>\u001b[0m in \u001b[0;36m<module>\u001b[0;34m()\u001b[0m\n\u001b[0;32m----> 1\u001b[0;31m \u001b[0mshow_num\u001b[0m\u001b[1;33m(\u001b[0m\u001b[1;33m)\u001b[0m\u001b[1;33m\u001b[0m\u001b[0m\n\u001b[0m",
      "\u001b[0;31mTypeError\u001b[0m: show_num() missing 1 required positional argument: 'number'"
     ]
    }
   ],
   "source": [
    "show_num()"
   ]
  },
  {
   "cell_type": "code",
   "execution_count": 73,
   "metadata": {
    "collapsed": true
   },
   "outputs": [],
   "source": [
    "def show_num(number):\n",
    "    print(\"The number is %d\" % number)"
   ]
  },
  {
   "cell_type": "code",
   "execution_count": 74,
   "metadata": {
    "collapsed": false
   },
   "outputs": [
    {
     "name": "stdout",
     "output_type": "stream",
     "text": [
      "The number is 9\n"
     ]
    }
   ],
   "source": [
    "show_num(9)"
   ]
  },
  {
   "cell_type": "code",
   "execution_count": 75,
   "metadata": {
    "collapsed": false
   },
   "outputs": [
    {
     "ename": "TypeError",
     "evalue": "%d format: a number is required, not str",
     "output_type": "error",
     "traceback": [
      "\u001b[0;31m---------------------------------------------------------------------------\u001b[0m",
      "\u001b[0;31mTypeError\u001b[0m                                 Traceback (most recent call last)",
      "\u001b[0;32m<ipython-input-75-bf95e04d2d6a>\u001b[0m in \u001b[0;36m<module>\u001b[0;34m()\u001b[0m\n\u001b[0;32m----> 1\u001b[0;31m \u001b[0mshow_num\u001b[0m\u001b[1;33m(\u001b[0m\u001b[1;34m'9'\u001b[0m\u001b[1;33m)\u001b[0m\u001b[1;33m\u001b[0m\u001b[0m\n\u001b[0m",
      "\u001b[0;32m<ipython-input-73-3dfd87e0be5a>\u001b[0m in \u001b[0;36mshow_num\u001b[0;34m(number)\u001b[0m\n\u001b[1;32m      1\u001b[0m \u001b[1;32mdef\u001b[0m \u001b[0mshow_num\u001b[0m\u001b[1;33m(\u001b[0m\u001b[0mnumber\u001b[0m\u001b[1;33m)\u001b[0m\u001b[1;33m:\u001b[0m\u001b[1;33m\u001b[0m\u001b[0m\n\u001b[0;32m----> 2\u001b[0;31m     \u001b[0mprint\u001b[0m\u001b[1;33m(\u001b[0m\u001b[1;34m\"The number is %d\"\u001b[0m \u001b[1;33m%\u001b[0m \u001b[0mnumber\u001b[0m\u001b[1;33m)\u001b[0m\u001b[1;33m\u001b[0m\u001b[0m\n\u001b[0m",
      "\u001b[0;31mTypeError\u001b[0m: %d format: a number is required, not str"
     ]
    }
   ],
   "source": [
    "show_num('9')"
   ]
  },
  {
   "cell_type": "code",
   "execution_count": 76,
   "metadata": {
    "collapsed": false
   },
   "outputs": [
    {
     "data": {
      "text/plain": [
       "int"
      ]
     },
     "execution_count": 76,
     "metadata": {},
     "output_type": "execute_result"
    }
   ],
   "source": [
    "type(12)"
   ]
  },
  {
   "cell_type": "code",
   "execution_count": 77,
   "metadata": {
    "collapsed": false
   },
   "outputs": [
    {
     "data": {
      "text/plain": [
       "float"
      ]
     },
     "execution_count": 77,
     "metadata": {},
     "output_type": "execute_result"
    }
   ],
   "source": [
    "type(2.2)"
   ]
  },
  {
   "cell_type": "code",
   "execution_count": 78,
   "metadata": {
    "collapsed": false
   },
   "outputs": [
    {
     "name": "stdout",
     "output_type": "stream",
     "text": [
      "The number is 12\n"
     ]
    }
   ],
   "source": [
    "def show_num(num):\n",
    "    print(\"The number is {0}\".format(num))\n",
    "    \n",
    "show_num(12)"
   ]
  },
  {
   "cell_type": "code",
   "execution_count": 79,
   "metadata": {
    "collapsed": false
   },
   "outputs": [
    {
     "data": {
      "text/plain": [
       "True"
      ]
     },
     "execution_count": 79,
     "metadata": {},
     "output_type": "execute_result"
    }
   ],
   "source": [
    "int is int"
   ]
  },
  {
   "cell_type": "code",
   "execution_count": 80,
   "metadata": {
    "collapsed": false
   },
   "outputs": [
    {
     "data": {
      "text/plain": [
       "False"
      ]
     },
     "execution_count": 80,
     "metadata": {},
     "output_type": "execute_result"
    }
   ],
   "source": [
    "int is str"
   ]
  },
  {
   "cell_type": "code",
   "execution_count": 81,
   "metadata": {
    "collapsed": false
   },
   "outputs": [
    {
     "data": {
      "text/plain": [
       "False"
      ]
     },
     "execution_count": 81,
     "metadata": {},
     "output_type": "execute_result"
    }
   ],
   "source": [
    "int is float"
   ]
  },
  {
   "cell_type": "code",
   "execution_count": 82,
   "metadata": {
    "collapsed": false
   },
   "outputs": [
    {
     "data": {
      "text/plain": [
       "False"
      ]
     },
     "execution_count": 82,
     "metadata": {},
     "output_type": "execute_result"
    }
   ],
   "source": [
    "str is float"
   ]
  },
  {
   "cell_type": "code",
   "execution_count": 83,
   "metadata": {
    "collapsed": false
   },
   "outputs": [
    {
     "data": {
      "text/plain": [
       "True"
      ]
     },
     "execution_count": 83,
     "metadata": {},
     "output_type": "execute_result"
    }
   ],
   "source": [
    "float is float"
   ]
  },
  {
   "cell_type": "code",
   "execution_count": 84,
   "metadata": {
    "collapsed": false
   },
   "outputs": [
    {
     "data": {
      "text/plain": [
       "1"
      ]
     },
     "execution_count": 84,
     "metadata": {},
     "output_type": "execute_result"
    }
   ],
   "source": [
    "def one():\n",
    "    return 1\n",
    "\n",
    "one()"
   ]
  },
  {
   "cell_type": "code",
   "execution_count": 85,
   "metadata": {
    "collapsed": false
   },
   "outputs": [
    {
     "data": {
      "text/plain": [
       "3"
      ]
     },
     "execution_count": 85,
     "metadata": {},
     "output_type": "execute_result"
    }
   ],
   "source": [
    "def send_back_a_number(n):\n",
    "    return n\n",
    "\n",
    "send_back_a_number(3)"
   ]
  },
  {
   "cell_type": "code",
   "execution_count": 86,
   "metadata": {
    "collapsed": true
   },
   "outputs": [],
   "source": [
    "def double(n):\n",
    "    return n*2"
   ]
  },
  {
   "cell_type": "code",
   "execution_count": 87,
   "metadata": {
    "collapsed": false
   },
   "outputs": [
    {
     "data": {
      "text/plain": [
       "8"
      ]
     },
     "execution_count": 87,
     "metadata": {},
     "output_type": "execute_result"
    }
   ],
   "source": [
    "double(4)"
   ]
  },
  {
   "cell_type": "code",
   "execution_count": 88,
   "metadata": {
    "collapsed": true
   },
   "outputs": [],
   "source": [
    "def add(a,b):\n",
    "    return a + b"
   ]
  },
  {
   "cell_type": "code",
   "execution_count": 89,
   "metadata": {
    "collapsed": false
   },
   "outputs": [
    {
     "data": {
      "text/plain": [
       "9"
      ]
     },
     "execution_count": 89,
     "metadata": {},
     "output_type": "execute_result"
    }
   ],
   "source": [
    "add(3,6)"
   ]
  },
  {
   "cell_type": "code",
   "execution_count": 90,
   "metadata": {
    "collapsed": false
   },
   "outputs": [
    {
     "ename": "SyntaxError",
     "evalue": "unexpected EOF while parsing (<ipython-input-90-f8bde0d2f9e8>, line 1)",
     "output_type": "error",
     "traceback": [
      "\u001b[0;36m  File \u001b[0;32m\"<ipython-input-90-f8bde0d2f9e8>\"\u001b[0;36m, line \u001b[0;32m1\u001b[0m\n\u001b[0;31m    def largest(c,d):\u001b[0m\n\u001b[0m                     ^\u001b[0m\n\u001b[0;31mSyntaxError\u001b[0m\u001b[0;31m:\u001b[0m unexpected EOF while parsing\n"
     ]
    }
   ],
   "source": [
    "def largest(c,d):"
   ]
  },
  {
   "cell_type": "code",
   "execution_count": 91,
   "metadata": {
    "collapsed": true
   },
   "outputs": [],
   "source": [
    "def largest(c,d):\n",
    "    if c < d:\n",
    "        return c\n",
    "    else:\n",
    "        return d"
   ]
  },
  {
   "cell_type": "code",
   "execution_count": 92,
   "metadata": {
    "collapsed": false
   },
   "outputs": [
    {
     "data": {
      "text/plain": [
       "6"
      ]
     },
     "execution_count": 92,
     "metadata": {},
     "output_type": "execute_result"
    }
   ],
   "source": [
    "largest(6,9)"
   ]
  },
  {
   "cell_type": "code",
   "execution_count": 93,
   "metadata": {
    "collapsed": true
   },
   "outputs": [],
   "source": [
    "def largest(c,d):\n",
    "    if c > d:\n",
    "        return c\n",
    "    else:\n",
    "        return d"
   ]
  },
  {
   "cell_type": "code",
   "execution_count": 94,
   "metadata": {
    "collapsed": false
   },
   "outputs": [
    {
     "data": {
      "text/plain": [
       "9"
      ]
     },
     "execution_count": 94,
     "metadata": {},
     "output_type": "execute_result"
    }
   ],
   "source": [
    "largest(6,9)"
   ]
  },
  {
   "cell_type": "code",
   "execution_count": 95,
   "metadata": {
    "collapsed": true
   },
   "outputs": [],
   "source": [
    "def largest(m,n):\n",
    "    return m if m > n else n"
   ]
  },
  {
   "cell_type": "code",
   "execution_count": 96,
   "metadata": {
    "collapsed": false
   },
   "outputs": [
    {
     "data": {
      "text/plain": [
       "8"
      ]
     },
     "execution_count": 96,
     "metadata": {},
     "output_type": "execute_result"
    }
   ],
   "source": [
    "largest(5,8)"
   ]
  },
  {
   "cell_type": "code",
   "execution_count": 97,
   "metadata": {
    "collapsed": false
   },
   "outputs": [
    {
     "name": "stdout",
     "output_type": "stream",
     "text": [
      "\n",
      "Windows IP Configuration\n",
      "\n",
      "\n",
      "Ethernet adapter Local Area Connection 2:\n",
      "\n",
      "   Media State . . . . . . . . . . . : Media disconnected\n",
      "   Connection-specific DNS Suffix  . : \n",
      "\n",
      "Wireless LAN adapter Wireless Network Connection 9:\n",
      "\n",
      "   Connection-specific DNS Suffix  . : \n",
      "   Link-local IPv6 Address . . . . . : fe80::40e2:94a6:6c66:a7a6%20\n",
      "   IPv4 Address. . . . . . . . . . . : 172.16.4.136\n",
      "   Subnet Mask . . . . . . . . . . . : 255.255.254.0\n",
      "   Default Gateway . . . . . . . . . : 172.16.4.1\n",
      "\n",
      "Ethernet adapter Local Area Connection:\n",
      "\n",
      "   Media State . . . . . . . . . . . : Media disconnected\n",
      "   Connection-specific DNS Suffix  . : \n",
      "\n",
      "Ethernet adapter VirtualBox Host-Only Network:\n",
      "\n",
      "   Connection-specific DNS Suffix  . : \n",
      "   Link-local IPv6 Address . . . . . : fe80::c4e5:828d:31b5:4dc5%22\n",
      "   IPv4 Address. . . . . . . . . . . : 192.168.56.1\n",
      "   Subnet Mask . . . . . . . . . . . : 255.255.255.0\n",
      "   Default Gateway . . . . . . . . . : \n",
      "\n",
      "Tunnel adapter isatap.{20687A61-82DF-430E-B23C-6CC521D78617}:\n",
      "\n",
      "   Media State . . . . . . . . . . . : Media disconnected\n",
      "   Connection-specific DNS Suffix  . : \n",
      "\n",
      "Tunnel adapter isatap.{956ED9F3-7388-421B-94F7-6EC40831C6D8}:\n",
      "\n",
      "   Media State . . . . . . . . . . . : Media disconnected\n",
      "   Connection-specific DNS Suffix  . : \n"
     ]
    }
   ],
   "source": [
    "!ipconfig"
   ]
  },
  {
   "cell_type": "code",
   "execution_count": 98,
   "metadata": {
    "collapsed": false
   },
   "outputs": [
    {
     "name": "stdout",
     "output_type": "stream",
     "text": [
      "\n",
      "Error: unrecognized or incomplete command line.\n",
      "\n",
      "USAGE:\n",
      "    ipconfig [/allcompartments] [/? | /all | \n",
      "                                 /renew [adapter] | /release [adapter] |\n",
      "                                 /renew6 [adapter] | /release6 [adapter] |\n",
      "                                 /flushdns | /displaydns | /registerdns |\n",
      "                                 /showclassid adapter |\n",
      "                                 /setclassid adapter [classid] |\n",
      "                                 /showclassid6 adapter |\n",
      "                                 /setclassid6 adapter [classid] ]\n",
      "\n",
      "where\n",
      "    adapter             Connection name \n",
      "                       (wildcard characters * and ? allowed, see examples)\n",
      "\n",
      "    Options:\n",
      "       /?               Display this help message\n",
      "       /all             Display full configuration information.\n",
      "       /release         Release the IPv4 address for the specified adapter.\n",
      "       /release6        Release the IPv6 address for the specified adapter.\n",
      "       /renew           Renew the IPv4 address for the specified adapter.\n",
      "       /renew6          Renew the IPv6 address for the specified adapter.\n",
      "       /flushdns        Purges the DNS Resolver cache.\n",
      "       /registerdns     Refreshes all DHCP leases and re-registers DNS names\n",
      "       /displaydns      Display the contents of the DNS Resolver Cache.\n",
      "       /showclassid     Displays all the dhcp class IDs allowed for adapter.\n",
      "       /setclassid      Modifies the dhcp class id.  \n",
      "       /showclassid6    Displays all the IPv6 DHCP class IDs allowed for adapter.\n",
      "       /setclassid6     Modifies the IPv6 DHCP class id.\n",
      "\n",
      "\n",
      "The default is to display only the IP address, subnet mask and\n",
      "default gateway for each adapter bound to TCP/IP.\n",
      "\n",
      "For Release and Renew, if no adapter name is specified, then the IP address\n",
      "leases for all adapters bound to TCP/IP will be released or renewed.\n",
      "\n",
      "For Setclassid and Setclassid6, if no ClassId is specified, then the ClassId is removed.\n",
      "\n",
      "Examples:\n",
      "    > ipconfig                       ... Show information\n",
      "    > ipconfig /all                  ... Show detailed information\n",
      "    > ipconfig /renew                ... renew all adapters\n",
      "    > ipconfig /renew EL*            ... renew any connection that has its \n",
      "                                         name starting with EL\n",
      "    > ipconfig /release *Con*        ... release all matching connections,\n",
      "                                         eg. \"Local Area Connection 1\" or\n",
      "                                             \"Local Area Connection 2\"\n",
      "    > ipconfig /allcompartments      ... Show information about all \n",
      "                                         compartments\n",
      "    > ipconfig /allcompartments /all ... Show detailed information about all\n",
      "                                         compartments\n"
     ]
    }
   ],
   "source": [
    "!ipconfig ?"
   ]
  },
  {
   "cell_type": "code",
   "execution_count": 99,
   "metadata": {
    "collapsed": false
   },
   "outputs": [
    {
     "ename": "SyntaxError",
     "evalue": "invalid syntax (<ipython-input-99-d9e0cfedfc9f>, line 1)",
     "output_type": "error",
     "traceback": [
      "\u001b[0;36m  File \u001b[0;32m\"<ipython-input-99-d9e0cfedfc9f>\"\u001b[0;36m, line \u001b[0;32m1\u001b[0m\n\u001b[0;31m    grep IPv4 !config\u001b[0m\n\u001b[0m            ^\u001b[0m\n\u001b[0;31mSyntaxError\u001b[0m\u001b[0;31m:\u001b[0m invalid syntax\n"
     ]
    }
   ],
   "source": [
    "grep IPv4 !config"
   ]
  },
  {
   "cell_type": "code",
   "execution_count": 100,
   "metadata": {
    "collapsed": false
   },
   "outputs": [
    {
     "ename": "SyntaxError",
     "evalue": "invalid syntax (<ipython-input-100-568794dd414a>, line 1)",
     "output_type": "error",
     "traceback": [
      "\u001b[0;36m  File \u001b[0;32m\"<ipython-input-100-568794dd414a>\"\u001b[0;36m, line \u001b[0;32m1\u001b[0m\n\u001b[0;31m    grep ?\u001b[0m\n\u001b[0m         ^\u001b[0m\n\u001b[0;31mSyntaxError\u001b[0m\u001b[0;31m:\u001b[0m invalid syntax\n"
     ]
    }
   ],
   "source": [
    "grep ?"
   ]
  },
  {
   "cell_type": "code",
   "execution_count": 101,
   "metadata": {
    "collapsed": false
   },
   "outputs": [
    {
     "ename": "SyntaxError",
     "evalue": "invalid syntax (<ipython-input-101-fe1c7453a574>, line 1)",
     "output_type": "error",
     "traceback": [
      "\u001b[0;36m  File \u001b[0;32m\"<ipython-input-101-fe1c7453a574>\"\u001b[0;36m, line \u001b[0;32m1\u001b[0m\n\u001b[0;31m    help grep\u001b[0m\n\u001b[0m            ^\u001b[0m\n\u001b[0;31mSyntaxError\u001b[0m\u001b[0;31m:\u001b[0m invalid syntax\n"
     ]
    }
   ],
   "source": [
    "help grep"
   ]
  },
  {
   "cell_type": "code",
   "execution_count": 102,
   "metadata": {
    "collapsed": true
   },
   "outputs": [],
   "source": [
    "ip_address = '172.16.4.136'"
   ]
  },
  {
   "cell_type": "code",
   "execution_count": 103,
   "metadata": {
    "collapsed": false
   },
   "outputs": [
    {
     "data": {
      "text/plain": [
       "'172.16.4.136'"
      ]
     },
     "execution_count": 103,
     "metadata": {},
     "output_type": "execute_result"
    }
   ],
   "source": [
    "ip_address"
   ]
  },
  {
   "cell_type": "code",
   "execution_count": 104,
   "metadata": {
    "collapsed": false
   },
   "outputs": [
    {
     "name": "stdout",
     "output_type": "stream",
     "text": [
      "1\n",
      "7\n",
      "2\n",
      ".\n",
      "1\n",
      "6\n",
      ".\n",
      "4\n",
      ".\n",
      "1\n",
      "3\n",
      "6\n"
     ]
    }
   ],
   "source": [
    "for octet in ip_address:\n",
    "    print(octet)"
   ]
  },
  {
   "cell_type": "code",
   "execution_count": 105,
   "metadata": {
    "collapsed": false
   },
   "outputs": [
    {
     "name": "stdout",
     "output_type": "stream",
     "text": [
      "1.7.2...1.6...4...1.3.6."
     ]
    }
   ],
   "source": [
    "for octet in ip_address:\n",
    "    print(octet, end = '.')"
   ]
  },
  {
   "cell_type": "code",
   "execution_count": 106,
   "metadata": {
    "collapsed": false
   },
   "outputs": [
    {
     "name": "stdout",
     "output_type": "stream",
     "text": [
      "1 7 2 . 1 6 . 4 . 1 3 6 "
     ]
    }
   ],
   "source": [
    "for octet in ip_address:\n",
    "    print(octet, end = ' ')"
   ]
  },
  {
   "cell_type": "code",
   "execution_count": 107,
   "metadata": {
    "collapsed": false
   },
   "outputs": [
    {
     "name": "stdout",
     "output_type": "stream",
     "text": [
      "172.16.4.136"
     ]
    }
   ],
   "source": [
    "for octet in ip_address:\n",
    "    print(octet, end = '')"
   ]
  },
  {
   "cell_type": "code",
   "execution_count": 108,
   "metadata": {
    "collapsed": false
   },
   "outputs": [
    {
     "name": "stdout",
     "output_type": "stream",
     "text": [
      "172\n",
      "16\n",
      "4\n",
      "136\n"
     ]
    }
   ],
   "source": [
    "for octet in ip_address.split('.'):\n",
    "    print(octet)"
   ]
  },
  {
   "cell_type": "code",
   "execution_count": 109,
   "metadata": {
    "collapsed": true
   },
   "outputs": [],
   "source": [
    "a,b,c,d = ip_address.split('.')"
   ]
  },
  {
   "cell_type": "code",
   "execution_count": 110,
   "metadata": {
    "collapsed": false
   },
   "outputs": [
    {
     "data": {
      "text/plain": [
       "('172', '16', '4', '136')"
      ]
     },
     "execution_count": 110,
     "metadata": {},
     "output_type": "execute_result"
    }
   ],
   "source": [
    "a,b,c,d"
   ]
  },
  {
   "cell_type": "code",
   "execution_count": 111,
   "metadata": {
    "collapsed": false
   },
   "outputs": [
    {
     "data": {
      "text/plain": [
       "'4'"
      ]
     },
     "execution_count": 111,
     "metadata": {},
     "output_type": "execute_result"
    }
   ],
   "source": [
    "c"
   ]
  },
  {
   "cell_type": "code",
   "execution_count": 112,
   "metadata": {
    "collapsed": false
   },
   "outputs": [
    {
     "data": {
      "text/plain": [
       "'172'"
      ]
     },
     "execution_count": 112,
     "metadata": {},
     "output_type": "execute_result"
    }
   ],
   "source": [
    "a"
   ]
  },
  {
   "cell_type": "code",
   "execution_count": 113,
   "metadata": {
    "collapsed": false
   },
   "outputs": [
    {
     "name": "stdout",
     "output_type": "stream",
     "text": [
      "172 16 4 0\n",
      "172 16 4 1\n",
      "172 16 4 2\n",
      "172 16 4 3\n",
      "172 16 4 4\n",
      "172 16 4 5\n",
      "172 16 4 6\n",
      "172 16 4 7\n",
      "172 16 4 8\n",
      "172 16 4 9\n",
      "172 16 4 10\n",
      "172 16 4 11\n",
      "172 16 4 12\n",
      "172 16 4 13\n",
      "172 16 4 14\n",
      "172 16 4 15\n",
      "172 16 4 16\n",
      "172 16 4 17\n",
      "172 16 4 18\n",
      "172 16 4 19\n",
      "172 16 4 20\n",
      "172 16 4 21\n",
      "172 16 4 22\n",
      "172 16 4 23\n",
      "172 16 4 24\n",
      "172 16 4 25\n",
      "172 16 4 26\n",
      "172 16 4 27\n",
      "172 16 4 28\n",
      "172 16 4 29\n",
      "172 16 4 30\n",
      "172 16 4 31\n",
      "172 16 4 32\n",
      "172 16 4 33\n",
      "172 16 4 34\n",
      "172 16 4 35\n",
      "172 16 4 36\n",
      "172 16 4 37\n",
      "172 16 4 38\n",
      "172 16 4 39\n",
      "172 16 4 40\n",
      "172 16 4 41\n",
      "172 16 4 42\n",
      "172 16 4 43\n",
      "172 16 4 44\n",
      "172 16 4 45\n",
      "172 16 4 46\n",
      "172 16 4 47\n",
      "172 16 4 48\n",
      "172 16 4 49\n",
      "172 16 4 50\n",
      "172 16 4 51\n",
      "172 16 4 52\n",
      "172 16 4 53\n",
      "172 16 4 54\n",
      "172 16 4 55\n",
      "172 16 4 56\n",
      "172 16 4 57\n",
      "172 16 4 58\n",
      "172 16 4 59\n",
      "172 16 4 60\n",
      "172 16 4 61\n",
      "172 16 4 62\n",
      "172 16 4 63\n",
      "172 16 4 64\n",
      "172 16 4 65\n",
      "172 16 4 66\n",
      "172 16 4 67\n",
      "172 16 4 68\n",
      "172 16 4 69\n",
      "172 16 4 70\n",
      "172 16 4 71\n",
      "172 16 4 72\n",
      "172 16 4 73\n",
      "172 16 4 74\n",
      "172 16 4 75\n",
      "172 16 4 76\n",
      "172 16 4 77\n",
      "172 16 4 78\n",
      "172 16 4 79\n",
      "172 16 4 80\n",
      "172 16 4 81\n",
      "172 16 4 82\n",
      "172 16 4 83\n",
      "172 16 4 84\n",
      "172 16 4 85\n",
      "172 16 4 86\n",
      "172 16 4 87\n",
      "172 16 4 88\n",
      "172 16 4 89\n",
      "172 16 4 90\n",
      "172 16 4 91\n",
      "172 16 4 92\n",
      "172 16 4 93\n",
      "172 16 4 94\n",
      "172 16 4 95\n",
      "172 16 4 96\n",
      "172 16 4 97\n",
      "172 16 4 98\n",
      "172 16 4 99\n",
      "172 16 4 100\n",
      "172 16 4 101\n",
      "172 16 4 102\n",
      "172 16 4 103\n",
      "172 16 4 104\n",
      "172 16 4 105\n",
      "172 16 4 106\n",
      "172 16 4 107\n",
      "172 16 4 108\n",
      "172 16 4 109\n",
      "172 16 4 110\n",
      "172 16 4 111\n",
      "172 16 4 112\n",
      "172 16 4 113\n",
      "172 16 4 114\n",
      "172 16 4 115\n",
      "172 16 4 116\n",
      "172 16 4 117\n",
      "172 16 4 118\n",
      "172 16 4 119\n",
      "172 16 4 120\n",
      "172 16 4 121\n",
      "172 16 4 122\n",
      "172 16 4 123\n",
      "172 16 4 124\n",
      "172 16 4 125\n",
      "172 16 4 126\n",
      "172 16 4 127\n",
      "172 16 4 128\n",
      "172 16 4 129\n",
      "172 16 4 130\n",
      "172 16 4 131\n",
      "172 16 4 132\n",
      "172 16 4 133\n",
      "172 16 4 134\n",
      "172 16 4 135\n",
      "172 16 4 136\n",
      "172 16 4 137\n",
      "172 16 4 138\n",
      "172 16 4 139\n",
      "172 16 4 140\n",
      "172 16 4 141\n",
      "172 16 4 142\n",
      "172 16 4 143\n",
      "172 16 4 144\n",
      "172 16 4 145\n",
      "172 16 4 146\n",
      "172 16 4 147\n",
      "172 16 4 148\n",
      "172 16 4 149\n",
      "172 16 4 150\n",
      "172 16 4 151\n",
      "172 16 4 152\n",
      "172 16 4 153\n",
      "172 16 4 154\n",
      "172 16 4 155\n",
      "172 16 4 156\n",
      "172 16 4 157\n",
      "172 16 4 158\n",
      "172 16 4 159\n",
      "172 16 4 160\n",
      "172 16 4 161\n",
      "172 16 4 162\n",
      "172 16 4 163\n",
      "172 16 4 164\n",
      "172 16 4 165\n",
      "172 16 4 166\n",
      "172 16 4 167\n",
      "172 16 4 168\n",
      "172 16 4 169\n",
      "172 16 4 170\n",
      "172 16 4 171\n",
      "172 16 4 172\n",
      "172 16 4 173\n",
      "172 16 4 174\n",
      "172 16 4 175\n",
      "172 16 4 176\n",
      "172 16 4 177\n",
      "172 16 4 178\n",
      "172 16 4 179\n",
      "172 16 4 180\n",
      "172 16 4 181\n",
      "172 16 4 182\n",
      "172 16 4 183\n",
      "172 16 4 184\n",
      "172 16 4 185\n",
      "172 16 4 186\n",
      "172 16 4 187\n",
      "172 16 4 188\n",
      "172 16 4 189\n",
      "172 16 4 190\n",
      "172 16 4 191\n",
      "172 16 4 192\n",
      "172 16 4 193\n",
      "172 16 4 194\n",
      "172 16 4 195\n",
      "172 16 4 196\n",
      "172 16 4 197\n",
      "172 16 4 198\n",
      "172 16 4 199\n",
      "172 16 4 200\n",
      "172 16 4 201\n",
      "172 16 4 202\n",
      "172 16 4 203\n",
      "172 16 4 204\n",
      "172 16 4 205\n",
      "172 16 4 206\n",
      "172 16 4 207\n",
      "172 16 4 208\n",
      "172 16 4 209\n",
      "172 16 4 210\n",
      "172 16 4 211\n",
      "172 16 4 212\n",
      "172 16 4 213\n",
      "172 16 4 214\n",
      "172 16 4 215\n",
      "172 16 4 216\n",
      "172 16 4 217\n",
      "172 16 4 218\n",
      "172 16 4 219\n",
      "172 16 4 220\n",
      "172 16 4 221\n",
      "172 16 4 222\n",
      "172 16 4 223\n",
      "172 16 4 224\n",
      "172 16 4 225\n",
      "172 16 4 226\n",
      "172 16 4 227\n",
      "172 16 4 228\n",
      "172 16 4 229\n",
      "172 16 4 230\n",
      "172 16 4 231\n",
      "172 16 4 232\n",
      "172 16 4 233\n",
      "172 16 4 234\n",
      "172 16 4 235\n",
      "172 16 4 236\n",
      "172 16 4 237\n",
      "172 16 4 238\n",
      "172 16 4 239\n",
      "172 16 4 240\n",
      "172 16 4 241\n",
      "172 16 4 242\n",
      "172 16 4 243\n",
      "172 16 4 244\n",
      "172 16 4 245\n",
      "172 16 4 246\n",
      "172 16 4 247\n",
      "172 16 4 248\n",
      "172 16 4 249\n",
      "172 16 4 250\n",
      "172 16 4 251\n",
      "172 16 4 252\n",
      "172 16 4 253\n",
      "172 16 4 254\n",
      "172 16 4 255\n"
     ]
    }
   ],
   "source": [
    "for i in range(256):\n",
    "    print(a, b, c, i)"
   ]
  },
  {
   "cell_type": "code",
   "execution_count": 116,
   "metadata": {
    "collapsed": false
   },
   "outputs": [
    {
     "name": "stdout",
     "output_type": "stream",
     "text": [
      "172 16 4 1\n",
      "172 16 4 2\n",
      "172 16 4 3\n",
      "172 16 4 4\n",
      "172 16 4 5\n",
      "172 16 4 6\n",
      "172 16 4 7\n",
      "172 16 4 8\n",
      "172 16 4 9\n",
      "172 16 4 10\n",
      "172 16 4 11\n",
      "172 16 4 12\n",
      "172 16 4 13\n",
      "172 16 4 14\n",
      "172 16 4 15\n",
      "172 16 4 16\n",
      "172 16 4 17\n",
      "172 16 4 18\n",
      "172 16 4 19\n",
      "172 16 4 20\n",
      "172 16 4 21\n",
      "172 16 4 22\n",
      "172 16 4 23\n",
      "172 16 4 24\n",
      "172 16 4 25\n",
      "172 16 4 26\n",
      "172 16 4 27\n",
      "172 16 4 28\n",
      "172 16 4 29\n",
      "172 16 4 30\n",
      "172 16 4 31\n",
      "172 16 4 32\n",
      "172 16 4 33\n",
      "172 16 4 34\n",
      "172 16 4 35\n",
      "172 16 4 36\n",
      "172 16 4 37\n",
      "172 16 4 38\n",
      "172 16 4 39\n",
      "172 16 4 40\n",
      "172 16 4 41\n",
      "172 16 4 42\n",
      "172 16 4 43\n",
      "172 16 4 44\n",
      "172 16 4 45\n",
      "172 16 4 46\n",
      "172 16 4 47\n",
      "172 16 4 48\n",
      "172 16 4 49\n",
      "172 16 4 50\n",
      "172 16 4 51\n",
      "172 16 4 52\n",
      "172 16 4 53\n",
      "172 16 4 54\n",
      "172 16 4 55\n",
      "172 16 4 56\n",
      "172 16 4 57\n",
      "172 16 4 58\n",
      "172 16 4 59\n",
      "172 16 4 60\n",
      "172 16 4 61\n",
      "172 16 4 62\n",
      "172 16 4 63\n",
      "172 16 4 64\n",
      "172 16 4 65\n",
      "172 16 4 66\n",
      "172 16 4 67\n",
      "172 16 4 68\n",
      "172 16 4 69\n",
      "172 16 4 70\n",
      "172 16 4 71\n",
      "172 16 4 72\n",
      "172 16 4 73\n",
      "172 16 4 74\n",
      "172 16 4 75\n",
      "172 16 4 76\n",
      "172 16 4 77\n",
      "172 16 4 78\n",
      "172 16 4 79\n",
      "172 16 4 80\n",
      "172 16 4 81\n",
      "172 16 4 82\n",
      "172 16 4 83\n",
      "172 16 4 84\n",
      "172 16 4 85\n",
      "172 16 4 86\n",
      "172 16 4 87\n",
      "172 16 4 88\n",
      "172 16 4 89\n",
      "172 16 4 90\n",
      "172 16 4 91\n",
      "172 16 4 92\n",
      "172 16 4 93\n",
      "172 16 4 94\n",
      "172 16 4 95\n",
      "172 16 4 96\n",
      "172 16 4 97\n",
      "172 16 4 98\n",
      "172 16 4 99\n",
      "172 16 4 100\n",
      "172 16 4 101\n",
      "172 16 4 102\n",
      "172 16 4 103\n",
      "172 16 4 104\n",
      "172 16 4 105\n",
      "172 16 4 106\n",
      "172 16 4 107\n",
      "172 16 4 108\n",
      "172 16 4 109\n",
      "172 16 4 110\n",
      "172 16 4 111\n",
      "172 16 4 112\n",
      "172 16 4 113\n",
      "172 16 4 114\n",
      "172 16 4 115\n",
      "172 16 4 116\n",
      "172 16 4 117\n",
      "172 16 4 118\n",
      "172 16 4 119\n",
      "172 16 4 120\n",
      "172 16 4 121\n",
      "172 16 4 122\n",
      "172 16 4 123\n",
      "172 16 4 124\n",
      "172 16 4 125\n",
      "172 16 4 126\n",
      "172 16 4 127\n",
      "172 16 4 128\n",
      "172 16 4 129\n",
      "172 16 4 130\n",
      "172 16 4 131\n",
      "172 16 4 132\n",
      "172 16 4 133\n",
      "172 16 4 134\n",
      "172 16 4 135\n",
      "172 16 4 136\n",
      "172 16 4 137\n",
      "172 16 4 138\n",
      "172 16 4 139\n",
      "172 16 4 140\n",
      "172 16 4 141\n",
      "172 16 4 142\n",
      "172 16 4 143\n",
      "172 16 4 144\n",
      "172 16 4 145\n",
      "172 16 4 146\n",
      "172 16 4 147\n",
      "172 16 4 148\n",
      "172 16 4 149\n",
      "172 16 4 150\n",
      "172 16 4 151\n",
      "172 16 4 152\n",
      "172 16 4 153\n",
      "172 16 4 154\n",
      "172 16 4 155\n",
      "172 16 4 156\n",
      "172 16 4 157\n",
      "172 16 4 158\n",
      "172 16 4 159\n",
      "172 16 4 160\n",
      "172 16 4 161\n",
      "172 16 4 162\n",
      "172 16 4 163\n",
      "172 16 4 164\n",
      "172 16 4 165\n",
      "172 16 4 166\n",
      "172 16 4 167\n",
      "172 16 4 168\n",
      "172 16 4 169\n",
      "172 16 4 170\n",
      "172 16 4 171\n",
      "172 16 4 172\n",
      "172 16 4 173\n",
      "172 16 4 174\n",
      "172 16 4 175\n",
      "172 16 4 176\n",
      "172 16 4 177\n",
      "172 16 4 178\n",
      "172 16 4 179\n",
      "172 16 4 180\n",
      "172 16 4 181\n",
      "172 16 4 182\n",
      "172 16 4 183\n",
      "172 16 4 184\n",
      "172 16 4 185\n",
      "172 16 4 186\n",
      "172 16 4 187\n",
      "172 16 4 188\n",
      "172 16 4 189\n",
      "172 16 4 190\n",
      "172 16 4 191\n",
      "172 16 4 192\n",
      "172 16 4 193\n",
      "172 16 4 194\n",
      "172 16 4 195\n",
      "172 16 4 196\n",
      "172 16 4 197\n",
      "172 16 4 198\n",
      "172 16 4 199\n",
      "172 16 4 200\n",
      "172 16 4 201\n",
      "172 16 4 202\n",
      "172 16 4 203\n",
      "172 16 4 204\n",
      "172 16 4 205\n",
      "172 16 4 206\n",
      "172 16 4 207\n",
      "172 16 4 208\n",
      "172 16 4 209\n",
      "172 16 4 210\n",
      "172 16 4 211\n",
      "172 16 4 212\n",
      "172 16 4 213\n",
      "172 16 4 214\n",
      "172 16 4 215\n",
      "172 16 4 216\n",
      "172 16 4 217\n",
      "172 16 4 218\n",
      "172 16 4 219\n",
      "172 16 4 220\n",
      "172 16 4 221\n",
      "172 16 4 222\n",
      "172 16 4 223\n",
      "172 16 4 224\n",
      "172 16 4 225\n",
      "172 16 4 226\n",
      "172 16 4 227\n",
      "172 16 4 228\n",
      "172 16 4 229\n",
      "172 16 4 230\n",
      "172 16 4 231\n",
      "172 16 4 232\n",
      "172 16 4 233\n",
      "172 16 4 234\n",
      "172 16 4 235\n",
      "172 16 4 236\n",
      "172 16 4 237\n",
      "172 16 4 238\n",
      "172 16 4 239\n",
      "172 16 4 240\n",
      "172 16 4 241\n",
      "172 16 4 242\n",
      "172 16 4 243\n",
      "172 16 4 244\n",
      "172 16 4 245\n",
      "172 16 4 246\n",
      "172 16 4 247\n",
      "172 16 4 248\n",
      "172 16 4 249\n",
      "172 16 4 250\n",
      "172 16 4 251\n",
      "172 16 4 252\n",
      "172 16 4 253\n",
      "172 16 4 254\n"
     ]
    }
   ],
   "source": [
    "for i in range(254):\n",
    "    print(a, b, c, i + 1)"
   ]
  },
  {
   "cell_type": "code",
   "execution_count": null,
   "metadata": {
    "collapsed": true
   },
   "outputs": [],
   "source": []
  }
 ],
 "metadata": {
  "kernelspec": {
   "display_name": "Python 3",
   "language": "python",
   "name": "python3"
  },
  "language_info": {
   "codemirror_mode": {
    "name": "ipython",
    "version": 3
   },
   "file_extension": ".py",
   "mimetype": "text/x-python",
   "name": "python",
   "nbconvert_exporter": "python",
   "pygments_lexer": "ipython3",
   "version": "3.6.0"
  }
 },
 "nbformat": 4,
 "nbformat_minor": 2
}
