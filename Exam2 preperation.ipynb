{
 "cells": [
  {
   "cell_type": "code",
   "execution_count": 1,
   "metadata": {
    "collapsed": false
   },
   "outputs": [
    {
     "name": "stdout",
     "output_type": "stream",
     "text": [
      "1 '2' 3\n"
     ]
    }
   ],
   "source": [
    "stuff = (1,'2',3)\n",
    "print(\"%r %r %r\" % stuff)\n"
   ]
  },
  {
   "cell_type": "code",
   "execution_count": 3,
   "metadata": {
    "collapsed": false
   },
   "outputs": [
    {
     "data": {
      "text/plain": [
       "tuple"
      ]
     },
     "execution_count": 3,
     "metadata": {},
     "output_type": "execute_result"
    }
   ],
   "source": [
    "type(stuff)"
   ]
  },
  {
   "cell_type": "code",
   "execution_count": 4,
   "metadata": {
    "collapsed": false
   },
   "outputs": [
    {
     "name": "stdout",
     "output_type": "stream",
     "text": [
      "1 '2' 3\n"
     ]
    }
   ],
   "source": [
    "stuff = (1,'2',3)\n",
    "print(\"%s %r %r\" % stuff)"
   ]
  },
  {
   "cell_type": "code",
   "execution_count": 5,
   "metadata": {
    "collapsed": false
   },
   "outputs": [
    {
     "name": "stdout",
     "output_type": "stream",
     "text": [
      "1 2 3\n"
     ]
    }
   ],
   "source": [
    "stuff = (1,'2',3)\n",
    "print(\"%d %s %d\" % stuff)"
   ]
  },
  {
   "cell_type": "code",
   "execution_count": 6,
   "metadata": {
    "collapsed": false
   },
   "outputs": [
    {
     "name": "stdout",
     "output_type": "stream",
     "text": [
      "1 2 3\n"
     ]
    }
   ],
   "source": [
    "stuff = (1,'2',3)\n",
    "print(\"%s %s %s\" % stuff)"
   ]
  },
  {
   "cell_type": "code",
   "execution_count": 7,
   "metadata": {
    "collapsed": false
   },
   "outputs": [
    {
     "ename": "TypeError",
     "evalue": "%d format: a number is required, not str",
     "output_type": "error",
     "traceback": [
      "\u001b[0;31m---------------------------------------------------------------------------\u001b[0m",
      "\u001b[0;31mTypeError\u001b[0m                                 Traceback (most recent call last)",
      "\u001b[0;32m<ipython-input-7-fefee45ddd7c>\u001b[0m in \u001b[0;36m<module>\u001b[0;34m()\u001b[0m\n\u001b[1;32m      1\u001b[0m \u001b[0mstuff\u001b[0m \u001b[1;33m=\u001b[0m \u001b[1;33m(\u001b[0m\u001b[1;36m1\u001b[0m\u001b[1;33m,\u001b[0m\u001b[1;34m'2'\u001b[0m\u001b[1;33m,\u001b[0m\u001b[1;36m3\u001b[0m\u001b[1;33m)\u001b[0m\u001b[1;33m\u001b[0m\u001b[0m\n\u001b[0;32m----> 2\u001b[0;31m \u001b[0mprint\u001b[0m\u001b[1;33m(\u001b[0m\u001b[1;34m\"%d %d %d\"\u001b[0m \u001b[1;33m%\u001b[0m \u001b[0mstuff\u001b[0m\u001b[1;33m)\u001b[0m\u001b[1;33m\u001b[0m\u001b[0m\n\u001b[0m",
      "\u001b[0;31mTypeError\u001b[0m: %d format: a number is required, not str"
     ]
    }
   ],
   "source": [
    "stuff = (1,'2',3)\n",
    "print(\"%d %d %d\" % stuff)"
   ]
  },
  {
   "cell_type": "code",
   "execution_count": 8,
   "metadata": {
    "collapsed": false
   },
   "outputs": [
    {
     "ename": "TypeError",
     "evalue": "%d format: a number is required, not list",
     "output_type": "error",
     "traceback": [
      "\u001b[0;31m---------------------------------------------------------------------------\u001b[0m",
      "\u001b[0;31mTypeError\u001b[0m                                 Traceback (most recent call last)",
      "\u001b[0;32m<ipython-input-8-d3d26a8a3290>\u001b[0m in \u001b[0;36m<module>\u001b[0;34m()\u001b[0m\n\u001b[1;32m      1\u001b[0m \u001b[0mstuff\u001b[0m \u001b[1;33m=\u001b[0m \u001b[1;33m[\u001b[0m\u001b[1;36m1\u001b[0m\u001b[1;33m,\u001b[0m\u001b[1;34m'2'\u001b[0m\u001b[1;33m,\u001b[0m\u001b[1;36m3\u001b[0m\u001b[1;33m]\u001b[0m\u001b[1;33m\u001b[0m\u001b[0m\n\u001b[0;32m----> 2\u001b[0;31m \u001b[0mprint\u001b[0m\u001b[1;33m(\u001b[0m\u001b[1;34m\"%d %d %d\"\u001b[0m \u001b[1;33m%\u001b[0m \u001b[0mstuff\u001b[0m\u001b[1;33m)\u001b[0m\u001b[1;33m\u001b[0m\u001b[0m\n\u001b[0m",
      "\u001b[0;31mTypeError\u001b[0m: %d format: a number is required, not list"
     ]
    }
   ],
   "source": [
    "stuff = [1,'2',3]\n",
    "print(\"%d %d %d\" % stuff)"
   ]
  },
  {
   "cell_type": "code",
   "execution_count": 9,
   "metadata": {
    "collapsed": false
   },
   "outputs": [
    {
     "ename": "TypeError",
     "evalue": "%d format: a number is required, not list",
     "output_type": "error",
     "traceback": [
      "\u001b[0;31m---------------------------------------------------------------------------\u001b[0m",
      "\u001b[0;31mTypeError\u001b[0m                                 Traceback (most recent call last)",
      "\u001b[0;32m<ipython-input-9-adcd1434a08b>\u001b[0m in \u001b[0;36m<module>\u001b[0;34m()\u001b[0m\n\u001b[1;32m      1\u001b[0m \u001b[0mstuff\u001b[0m \u001b[1;33m=\u001b[0m \u001b[1;33m[\u001b[0m\u001b[1;36m1\u001b[0m\u001b[1;33m,\u001b[0m\u001b[1;34m'2'\u001b[0m\u001b[1;33m,\u001b[0m\u001b[1;36m3\u001b[0m\u001b[1;33m]\u001b[0m\u001b[1;33m\u001b[0m\u001b[0m\n\u001b[0;32m----> 2\u001b[0;31m \u001b[0mprint\u001b[0m\u001b[1;33m(\u001b[0m\u001b[1;34m\"%d %s %d\"\u001b[0m \u001b[1;33m%\u001b[0m \u001b[0mstuff\u001b[0m\u001b[1;33m)\u001b[0m\u001b[1;33m\u001b[0m\u001b[0m\n\u001b[0m",
      "\u001b[0;31mTypeError\u001b[0m: %d format: a number is required, not list"
     ]
    }
   ],
   "source": [
    "stuff = [1,'2',3]\n",
    "print(\"%d %s %d\" % stuff)"
   ]
  },
  {
   "cell_type": "code",
   "execution_count": 10,
   "metadata": {
    "collapsed": false
   },
   "outputs": [
    {
     "ename": "TypeError",
     "evalue": "not enough arguments for format string",
     "output_type": "error",
     "traceback": [
      "\u001b[0;31m---------------------------------------------------------------------------\u001b[0m",
      "\u001b[0;31mTypeError\u001b[0m                                 Traceback (most recent call last)",
      "\u001b[0;32m<ipython-input-10-748f9df5aab1>\u001b[0m in \u001b[0;36m<module>\u001b[0;34m()\u001b[0m\n\u001b[1;32m      1\u001b[0m \u001b[0mstuff\u001b[0m \u001b[1;33m=\u001b[0m \u001b[1;33m[\u001b[0m\u001b[1;36m1\u001b[0m\u001b[1;33m,\u001b[0m\u001b[1;34m'2'\u001b[0m\u001b[1;33m,\u001b[0m\u001b[1;36m3\u001b[0m\u001b[1;33m]\u001b[0m\u001b[1;33m\u001b[0m\u001b[0m\n\u001b[0;32m----> 2\u001b[0;31m \u001b[0mprint\u001b[0m\u001b[1;33m(\u001b[0m\u001b[1;34m\"%r %r %r\"\u001b[0m \u001b[1;33m%\u001b[0m \u001b[0mstuff\u001b[0m\u001b[1;33m)\u001b[0m\u001b[1;33m\u001b[0m\u001b[0m\n\u001b[0m",
      "\u001b[0;31mTypeError\u001b[0m: not enough arguments for format string"
     ]
    }
   ],
   "source": [
    "stuff = [1,'2',3]\n",
    "print(\"%r %r %r\" % stuff)"
   ]
  },
  {
   "cell_type": "code",
   "execution_count": 11,
   "metadata": {
    "collapsed": false
   },
   "outputs": [
    {
     "name": "stdout",
     "output_type": "stream",
     "text": [
      "dog,cat,frog\n"
     ]
    }
   ],
   "source": [
    "animals = \"dog,cat,frog\"\n",
    "\n",
    "print(animals)"
   ]
  },
  {
   "cell_type": "code",
   "execution_count": 12,
   "metadata": {
    "collapsed": false
   },
   "outputs": [
    {
     "data": {
      "text/plain": [
       "str"
      ]
     },
     "execution_count": 12,
     "metadata": {},
     "output_type": "execute_result"
    }
   ],
   "source": [
    "type(animals)"
   ]
  },
  {
   "cell_type": "code",
   "execution_count": 13,
   "metadata": {
    "collapsed": false
   },
   "outputs": [
    {
     "ename": "SyntaxError",
     "evalue": "invalid syntax (<ipython-input-13-32649e5f5c48>, line 1)",
     "output_type": "error",
     "traceback": [
      "\u001b[0;36m  File \u001b[0;32m\"<ipython-input-13-32649e5f5c48>\"\u001b[0;36m, line \u001b[0;32m1\u001b[0m\n\u001b[0;31m    a,b,c = animals.split(,)\u001b[0m\n\u001b[0m                          ^\u001b[0m\n\u001b[0;31mSyntaxError\u001b[0m\u001b[0;31m:\u001b[0m invalid syntax\n"
     ]
    }
   ],
   "source": [
    "a,b,c = animals.split(,)\n",
    "a\n",
    "b\n",
    "c\n"
   ]
  },
  {
   "cell_type": "code",
   "execution_count": 14,
   "metadata": {
    "collapsed": false
   },
   "outputs": [
    {
     "ename": "SyntaxError",
     "evalue": "invalid syntax (<ipython-input-14-dd1fcea32c66>, line 2)",
     "output_type": "error",
     "traceback": [
      "\u001b[0;36m  File \u001b[0;32m\"<ipython-input-14-dd1fcea32c66>\"\u001b[0;36m, line \u001b[0;32m2\u001b[0m\n\u001b[0;31m    a,b,c = animals.split(,)\u001b[0m\n\u001b[0m                          ^\u001b[0m\n\u001b[0;31mSyntaxError\u001b[0m\u001b[0;31m:\u001b[0m invalid syntax\n"
     ]
    }
   ],
   "source": [
    "animals = \"dog,cat,frog\"\n",
    "a,b,c = animals.split(,)\n",
    "a\n",
    "b\n",
    "c\n",
    "print(animals)\n"
   ]
  },
  {
   "cell_type": "code",
   "execution_count": 16,
   "metadata": {
    "collapsed": false
   },
   "outputs": [
    {
     "name": "stdout",
     "output_type": "stream",
     "text": [
      "dog\n",
      "cat\n",
      "dog,cat,frog\n"
     ]
    }
   ],
   "source": [
    "animals = \"dog,cat,frog\"\n",
    "a,b,c = animals.split(',')\n",
    "print(a)\n",
    "print(b)\n",
    "c\n",
    "print(animals)\n"
   ]
  },
  {
   "cell_type": "code",
   "execution_count": 17,
   "metadata": {
    "collapsed": false,
    "scrolled": true
   },
   "outputs": [
    {
     "name": "stdout",
     "output_type": "stream",
     "text": [
      "['dog', 'cat', 'frog']\n",
      "dog\n",
      "cat\n",
      "dog,cat,frog\n"
     ]
    }
   ],
   "source": [
    "animals = \"dog,cat,frog\"\n",
    "animal_list = animals.split(',')\n",
    "print(animal_list)\n",
    "print(a)\n",
    "print(b)\n",
    "c\n",
    "print(animals)\n"
   ]
  },
  {
   "cell_type": "code",
   "execution_count": 18,
   "metadata": {
    "collapsed": true
   },
   "outputs": [],
   "source": [
    "a,b,c = ['dog', 'cat', 'frog']\n"
   ]
  },
  {
   "cell_type": "code",
   "execution_count": 19,
   "metadata": {
    "collapsed": false
   },
   "outputs": [
    {
     "data": {
      "text/plain": [
       "('dog', 'cat', 'frog')"
      ]
     },
     "execution_count": 19,
     "metadata": {},
     "output_type": "execute_result"
    }
   ],
   "source": [
    "a,b,c\n"
   ]
  },
  {
   "cell_type": "code",
   "execution_count": 20,
   "metadata": {
    "collapsed": false
   },
   "outputs": [
    {
     "ename": "TypeError",
     "evalue": "type.__new__() argument 2 must be tuple, not str",
     "output_type": "error",
     "traceback": [
      "\u001b[0;31m---------------------------------------------------------------------------\u001b[0m",
      "\u001b[0;31mTypeError\u001b[0m                                 Traceback (most recent call last)",
      "\u001b[0;32m<ipython-input-20-190f75c22cf4>\u001b[0m in \u001b[0;36m<module>\u001b[0;34m()\u001b[0m\n\u001b[0;32m----> 1\u001b[0;31m \u001b[0mtype\u001b[0m\u001b[1;33m(\u001b[0m\u001b[0ma\u001b[0m\u001b[1;33m,\u001b[0m\u001b[0mb\u001b[0m\u001b[1;33m,\u001b[0m\u001b[0mc\u001b[0m\u001b[1;33m)\u001b[0m\u001b[1;33m\u001b[0m\u001b[0m\n\u001b[0m",
      "\u001b[0;31mTypeError\u001b[0m: type.__new__() argument 2 must be tuple, not str"
     ]
    }
   ],
   "source": [
    "type(a,b,c)"
   ]
  },
  {
   "cell_type": "code",
   "execution_count": 21,
   "metadata": {
    "collapsed": true
   },
   "outputs": [],
   "source": [
    "animals = \"dog cat frog\"\n",
    "\n",
    "animals_list_new = animals.split(' ')"
   ]
  },
  {
   "cell_type": "code",
   "execution_count": 22,
   "metadata": {
    "collapsed": false
   },
   "outputs": [
    {
     "name": "stdout",
     "output_type": "stream",
     "text": [
      "['dog', 'cat', 'frog']\n"
     ]
    }
   ],
   "source": [
    "print(animals_list_new)"
   ]
  },
  {
   "cell_type": "code",
   "execution_count": 23,
   "metadata": {
    "collapsed": false
   },
   "outputs": [
    {
     "ename": "ValueError",
     "evalue": "empty separator",
     "output_type": "error",
     "traceback": [
      "\u001b[0;31m---------------------------------------------------------------------------\u001b[0m",
      "\u001b[0;31mValueError\u001b[0m                                Traceback (most recent call last)",
      "\u001b[0;32m<ipython-input-23-f7ce41a87d6e>\u001b[0m in \u001b[0;36m<module>\u001b[0;34m()\u001b[0m\n\u001b[1;32m      1\u001b[0m \u001b[0manimals\u001b[0m \u001b[1;33m=\u001b[0m \u001b[1;34m\"dog cat frog\"\u001b[0m\u001b[1;33m\u001b[0m\u001b[0m\n\u001b[1;32m      2\u001b[0m \u001b[1;33m\u001b[0m\u001b[0m\n\u001b[0;32m----> 3\u001b[0;31m \u001b[0manimals_list_new\u001b[0m \u001b[1;33m=\u001b[0m \u001b[0manimals\u001b[0m\u001b[1;33m.\u001b[0m\u001b[0msplit\u001b[0m\u001b[1;33m(\u001b[0m\u001b[1;34m''\u001b[0m\u001b[1;33m)\u001b[0m\u001b[1;33m\u001b[0m\u001b[0m\n\u001b[0m\u001b[1;32m      4\u001b[0m \u001b[0mprint\u001b[0m\u001b[1;33m(\u001b[0m\u001b[0manimals_list_new\u001b[0m\u001b[1;33m)\u001b[0m\u001b[1;33m\u001b[0m\u001b[0m\n",
      "\u001b[0;31mValueError\u001b[0m: empty separator"
     ]
    }
   ],
   "source": [
    "animals = \"dog cat frog\"\n",
    "\n",
    "animals_list_new = animals.split('')\n",
    "print(animals_list_new)"
   ]
  },
  {
   "cell_type": "code",
   "execution_count": 24,
   "metadata": {
    "collapsed": false
   },
   "outputs": [
    {
     "name": "stdout",
     "output_type": "stream",
     "text": [
      "['dog', 'cat', 'frog']\n"
     ]
    }
   ],
   "source": [
    "animals = \"dog cat frog\"\n",
    "\n",
    "animals_list_new = animals.split()\n",
    "print(animals_list_new)"
   ]
  },
  {
   "cell_type": "code",
   "execution_count": 25,
   "metadata": {
    "collapsed": false
   },
   "outputs": [
    {
     "name": "stdout",
     "output_type": "stream",
     "text": [
      "['dog,', 'cat,', 'frog']\n"
     ]
    }
   ],
   "source": [
    "animals = \"dog, cat, frog\"\n",
    "\n",
    "animals_list_new = animals.split()\n",
    "print(animals_list_new)"
   ]
  },
  {
   "cell_type": "code",
   "execution_count": 26,
   "metadata": {
    "collapsed": false
   },
   "outputs": [
    {
     "ename": "AttributeError",
     "evalue": "'list' object has no attribute 'strip'",
     "output_type": "error",
     "traceback": [
      "\u001b[0;31m---------------------------------------------------------------------------\u001b[0m",
      "\u001b[0;31mAttributeError\u001b[0m                            Traceback (most recent call last)",
      "\u001b[0;32m<ipython-input-26-9837a00b3b92>\u001b[0m in \u001b[0;36m<module>\u001b[0;34m()\u001b[0m\n\u001b[1;32m      1\u001b[0m \u001b[0manimals\u001b[0m \u001b[1;33m=\u001b[0m \u001b[1;34m\"dog, cat, frog\"\u001b[0m\u001b[1;33m\u001b[0m\u001b[0m\n\u001b[1;32m      2\u001b[0m \u001b[1;33m\u001b[0m\u001b[0m\n\u001b[0;32m----> 3\u001b[0;31m \u001b[0manimals_list_new\u001b[0m \u001b[1;33m=\u001b[0m \u001b[0manimals\u001b[0m\u001b[1;33m.\u001b[0m\u001b[0msplit\u001b[0m\u001b[1;33m(\u001b[0m\u001b[1;33m)\u001b[0m\u001b[1;33m.\u001b[0m\u001b[0mstrip\u001b[0m\u001b[1;33m(\u001b[0m\u001b[1;34m','\u001b[0m\u001b[1;33m)\u001b[0m\u001b[1;33m\u001b[0m\u001b[0m\n\u001b[0m\u001b[1;32m      4\u001b[0m \u001b[0mprint\u001b[0m\u001b[1;33m(\u001b[0m\u001b[0manimals_list_new\u001b[0m\u001b[1;33m)\u001b[0m\u001b[1;33m\u001b[0m\u001b[0m\n",
      "\u001b[0;31mAttributeError\u001b[0m: 'list' object has no attribute 'strip'"
     ]
    }
   ],
   "source": [
    "animals = \"dog, cat, frog\"\n",
    "\n",
    "animals_list_new = animals.split().strip(',')\n",
    "print(animals_list_new)"
   ]
  },
  {
   "cell_type": "code",
   "execution_count": 27,
   "metadata": {
    "collapsed": false
   },
   "outputs": [
    {
     "name": "stdout",
     "output_type": "stream",
     "text": [
      "['dog,', 'cat,', 'frog']\n"
     ]
    }
   ],
   "source": [
    "animals = \"dog, cat, frog\"\n",
    "\n",
    "animals_list_new = animals.strip(',').split()\n",
    "\n",
    "print(animals_list_new)"
   ]
  },
  {
   "cell_type": "code",
   "execution_count": 29,
   "metadata": {
    "collapsed": false
   },
   "outputs": [
    {
     "name": "stdout",
     "output_type": "stream",
     "text": [
      "['dog,', 'cat,', 'frog']\n"
     ]
    }
   ],
   "source": [
    "animals = \"dog, cat, frog\"\n",
    "\n",
    "animals_list_new = animals.split()\n",
    "\n",
    "print(animals_list_new)"
   ]
  },
  {
   "cell_type": "code",
   "execution_count": 30,
   "metadata": {
    "collapsed": false
   },
   "outputs": [
    {
     "ename": "SyntaxError",
     "evalue": "invalid syntax (<ipython-input-30-a7eff11e703e>, line 1)",
     "output_type": "error",
     "traceback": [
      "\u001b[0;36m  File \u001b[0;32m\"<ipython-input-30-a7eff11e703e>\"\u001b[0;36m, line \u001b[0;32m1\u001b[0m\n\u001b[0;31m    open ('numbers.dat','r') as f:\u001b[0m\n\u001b[0m                              ^\u001b[0m\n\u001b[0;31mSyntaxError\u001b[0m\u001b[0;31m:\u001b[0m invalid syntax\n"
     ]
    }
   ],
   "source": [
    "open ('numbers.dat','r') as f:\n",
    "    for line in f:\n",
    "        print(line)"
   ]
  },
  {
   "cell_type": "code",
   "execution_count": 31,
   "metadata": {
    "collapsed": false
   },
   "outputs": [
    {
     "ename": "SyntaxError",
     "evalue": "invalid syntax (<ipython-input-31-eea39c21c59e>, line 1)",
     "output_type": "error",
     "traceback": [
      "\u001b[0;36m  File \u001b[0;32m\"<ipython-input-31-eea39c21c59e>\"\u001b[0;36m, line \u001b[0;32m1\u001b[0m\n\u001b[0;31m    open ('numbers.dat','r') with f:\u001b[0m\n\u001b[0m                                ^\u001b[0m\n\u001b[0;31mSyntaxError\u001b[0m\u001b[0;31m:\u001b[0m invalid syntax\n"
     ]
    }
   ],
   "source": [
    "open ('numbers.dat','r') with f:\n",
    "    for line in f:\n",
    "        print(line)"
   ]
  },
  {
   "cell_type": "code",
   "execution_count": 32,
   "metadata": {
    "collapsed": false
   },
   "outputs": [
    {
     "ename": "SyntaxError",
     "evalue": "invalid syntax (<ipython-input-32-f8747bd4a291>, line 1)",
     "output_type": "error",
     "traceback": [
      "\u001b[0;36m  File \u001b[0;32m\"<ipython-input-32-f8747bd4a291>\"\u001b[0;36m, line \u001b[0;32m1\u001b[0m\n\u001b[0;31m    open with('numbers.dat','r') as f:\u001b[0m\n\u001b[0m            ^\u001b[0m\n\u001b[0;31mSyntaxError\u001b[0m\u001b[0;31m:\u001b[0m invalid syntax\n"
     ]
    }
   ],
   "source": [
    "open with('numbers.dat','r') as f:\n",
    "    for line in f:\n",
    "        print(line)"
   ]
  },
  {
   "cell_type": "code",
   "execution_count": 1,
   "metadata": {
    "collapsed": false
   },
   "outputs": [
    {
     "name": "stdout",
     "output_type": "stream",
     "text": [
      "1,2,3\n",
      "\n",
      "4,5,6\n",
      "\n",
      "7,8,9\n"
     ]
    }
   ],
   "source": [
    "with open ('numbers.dat','r') as f:\n",
    "    for line in f:\n",
    "        print(line)"
   ]
  },
  {
   "cell_type": "code",
   "execution_count": 35,
   "metadata": {
    "collapsed": false
   },
   "outputs": [
    {
     "name": "stdout",
     "output_type": "stream",
     "text": [
      "1,2,3\n",
      "\n",
      "4,5,6\n",
      "\n",
      "7,8,9\n"
     ]
    }
   ],
   "source": [
    "with open('numbers.dat','r') as f:\n",
    "    for line in f:\n",
    "        print(line)"
   ]
  },
  {
   "cell_type": "code",
   "execution_count": 2,
   "metadata": {
    "collapsed": false
   },
   "outputs": [
    {
     "name": "stdout",
     "output_type": "stream",
     "text": [
      "1,2,3\n",
      "\n",
      "4,5,6\n",
      "\n",
      "7,8,9\n"
     ]
    }
   ],
   "source": [
    "with open('numbers.dat','r') as f:\n",
    "    for line in f:\n",
    "        one_line = line.strip()\n",
    "        print(line)"
   ]
  },
  {
   "cell_type": "code",
   "execution_count": 39,
   "metadata": {
    "collapsed": false
   },
   "outputs": [
    {
     "name": "stdout",
     "output_type": "stream",
     "text": [
      "1,2,3\n",
      "4,5,6\n",
      "7,8,9\n"
     ]
    }
   ],
   "source": [
    "with open('numbers.dat','r') as f:\n",
    "    for line in f:\n",
    "        one_line = line.strip()\n",
    "        print(one_line)\n"
   ]
  },
  {
   "cell_type": "code",
   "execution_count": 40,
   "metadata": {
    "collapsed": false
   },
   "outputs": [
    {
     "name": "stdout",
     "output_type": "stream",
     "text": [
      "1,2,3\n",
      "4,5,6\n",
      "7,8,9\n"
     ]
    }
   ],
   "source": [
    "with open('numbers.dat','r') as f:\n",
    "    for line in f:\n",
    "        one_line = line.strip('\\n')\n",
    "        print(one_line)"
   ]
  },
  {
   "cell_type": "code",
   "execution_count": 42,
   "metadata": {
    "collapsed": false
   },
   "outputs": [
    {
     "ename": "FileNotFoundError",
     "evalue": "[Errno 2] No such file or directory: 'numbers1.dat'",
     "output_type": "error",
     "traceback": [
      "\u001b[0;31m---------------------------------------------------------------------------\u001b[0m",
      "\u001b[0;31mFileNotFoundError\u001b[0m                         Traceback (most recent call last)",
      "\u001b[0;32m<ipython-input-42-c985b5b5233d>\u001b[0m in \u001b[0;36m<module>\u001b[0;34m()\u001b[0m\n\u001b[0;32m----> 1\u001b[0;31m \u001b[1;32mwith\u001b[0m \u001b[0mopen\u001b[0m\u001b[1;33m(\u001b[0m\u001b[1;34m'numbers1.dat'\u001b[0m\u001b[1;33m,\u001b[0m\u001b[1;34m'r'\u001b[0m\u001b[1;33m)\u001b[0m \u001b[1;32mas\u001b[0m \u001b[0mf\u001b[0m\u001b[1;33m:\u001b[0m\u001b[1;33m\u001b[0m\u001b[0m\n\u001b[0m\u001b[1;32m      2\u001b[0m     \u001b[1;32mfor\u001b[0m \u001b[0mline\u001b[0m \u001b[1;32min\u001b[0m \u001b[0mf\u001b[0m\u001b[1;33m:\u001b[0m\u001b[1;33m\u001b[0m\u001b[0m\n\u001b[1;32m      3\u001b[0m         \u001b[0mone_line\u001b[0m \u001b[1;33m=\u001b[0m \u001b[0mline\u001b[0m\u001b[1;33m.\u001b[0m\u001b[0mstrip\u001b[0m\u001b[1;33m(\u001b[0m\u001b[1;33m)\u001b[0m\u001b[1;33m.\u001b[0m\u001b[0msplit\u001b[0m\u001b[1;33m(\u001b[0m\u001b[1;34m','\u001b[0m\u001b[1;33m)\u001b[0m\u001b[1;33m\u001b[0m\u001b[0m\n\u001b[1;32m      4\u001b[0m         \u001b[0mprint\u001b[0m\u001b[1;33m(\u001b[0m\u001b[0mone_line\u001b[0m\u001b[1;33m)\u001b[0m\u001b[1;33m\u001b[0m\u001b[0m\n",
      "\u001b[0;31mFileNotFoundError\u001b[0m: [Errno 2] No such file or directory: 'numbers1.dat'"
     ]
    }
   ],
   "source": [
    "with open('numbers1.dat','r') as f:\n",
    "    for line in f:\n",
    "        one_line = line.strip().split(',')\n",
    "        print(one_line)"
   ]
  },
  {
   "cell_type": "code",
   "execution_count": 44,
   "metadata": {
    "collapsed": false
   },
   "outputs": [
    {
     "name": "stdout",
     "output_type": "stream",
     "text": [
      "['1', '2', '3']\n",
      "['4', '5', '6']\n",
      "['7', '8', '9']\n"
     ]
    }
   ],
   "source": [
    "with open('numbers1.txt','r') as f:\n",
    "    for line in f:\n",
    "        one_line = line.strip().split(',')\n",
    "        print(one_line)"
   ]
  },
  {
   "cell_type": "code",
   "execution_count": 45,
   "metadata": {
    "collapsed": false
   },
   "outputs": [
    {
     "name": "stdout",
     "output_type": "stream",
     "text": [
      "<map object at 0x0000000004D29D68>\n",
      "['1', '2', '3']\n",
      "<map object at 0x000000000468E780>\n",
      "['4', '5', '6']\n",
      "<map object at 0x00000000049EBBA8>\n",
      "['7', '8', '9']\n"
     ]
    }
   ],
   "source": [
    "with open('numbers1.txt','r') as f:\n",
    "    for line in f:\n",
    "        one_line = line.strip().split(',')\n",
    "        change_to_num = map(int, one_line)\n",
    "        print(change_to_num)\n",
    "        print(one_line)"
   ]
  },
  {
   "cell_type": "code",
   "execution_count": 47,
   "metadata": {
    "collapsed": false
   },
   "outputs": [
    {
     "name": "stdout",
     "output_type": "stream",
     "text": [
      "['1', '2', '3']\n",
      "[1, 2, 3]\n",
      "['4', '5', '6']\n",
      "[4, 5, 6]\n",
      "['7', '8', '9']\n",
      "[7, 8, 9]\n"
     ]
    }
   ],
   "source": [
    "with open('numbers1.txt','r') as f:\n",
    "    for line in f:\n",
    "        one_value = line.strip().split(',')\n",
    "        change_to_num = list(map(int, one_line))\n",
    "        print(one_line)\n",
    "        print(change_to_num)\n",
    "       "
   ]
  },
  {
   "cell_type": "code",
   "execution_count": 48,
   "metadata": {
    "collapsed": false
   },
   "outputs": [
    {
     "name": "stdout",
     "output_type": "stream",
     "text": [
      "['7', '8', '9']\n",
      "[7, 8, 9]\n",
      "['7', '8', '9']\n",
      "[7, 8, 9]\n",
      "['7', '8', '9']\n",
      "[7, 8, 9]\n"
     ]
    }
   ],
   "source": [
    "with open('numbers1.txt','r') as f:\n",
    "    for line in f:\n",
    "        one_value = line.strip().split(',')\n",
    "        change_to_num = list(map(int, one_line))\n",
    "        change_to_tuple = map(tuple, change_to_num)\n",
    "        print(one_line)\n",
    "        print(change_to_num)"
   ]
  },
  {
   "cell_type": "code",
   "execution_count": 49,
   "metadata": {
    "collapsed": false
   },
   "outputs": [
    {
     "name": "stdout",
     "output_type": "stream",
     "text": [
      "['7', '8', '9']\n",
      "[7, 8, 9]\n",
      "<map object at 0x0000000004D323C8>\n",
      "['7', '8', '9']\n",
      "[7, 8, 9]\n",
      "<map object at 0x0000000004D32978>\n",
      "['7', '8', '9']\n",
      "[7, 8, 9]\n",
      "<map object at 0x00000000049EB438>\n"
     ]
    }
   ],
   "source": [
    "with open('numbers1.txt','r') as f:\n",
    "    for line in f:\n",
    "        one_value = line.strip().split(',')\n",
    "        change_to_num = list(map(int, one_line))\n",
    "        change_to_tuple = map(tuple, change_to_num)\n",
    "        print(one_line)\n",
    "        print(change_to_num)\n",
    "        print(change_to_tuple)"
   ]
  },
  {
   "cell_type": "code",
   "execution_count": 55,
   "metadata": {
    "collapsed": false
   },
   "outputs": [
    {
     "name": "stdout",
     "output_type": "stream",
     "text": [
      "['7', '8', '9']\n",
      "(7, 8, 9)\n",
      "['7', '8', '9']\n",
      "(7, 8, 9)\n",
      "['7', '8', '9']\n",
      "(7, 8, 9)\n"
     ]
    }
   ],
   "source": [
    "with open('numbers1.txt','r') as f:\n",
    "    for line in f:\n",
    "        one_value = line.strip().split(',')\n",
    "        change_to_num = tuple(map(int, one_line))\n",
    "        \n",
    "        print(one_line)\n",
    "        print(change_to_num)\n"
   ]
  },
  {
   "cell_type": "code",
   "execution_count": 56,
   "metadata": {
    "collapsed": false
   },
   "outputs": [
    {
     "name": "stdout",
     "output_type": "stream",
     "text": [
      "[(1, 2, 3), (4, 5, 6), (7, 8, 9)]\n"
     ]
    }
   ],
   "source": [
    "result = 0\n",
    "totals = []\n",
    "tup_list = []\n",
    "\n",
    "with open(\"numbers.dat\", \"r\") as f:\n",
    "    for item in f:\n",
    "        tup_list.append(tuple(tuple(map(int, item.strip().split(',')))))  \n",
    "              \n",
    "print(tup_list)"
   ]
  },
  {
   "cell_type": "code",
   "execution_count": 58,
   "metadata": {
    "collapsed": false
   },
   "outputs": [
    {
     "name": "stdout",
     "output_type": "stream",
     "text": [
      "[(1, 2, 3), (4, 5, 6), (7, 8, 9)]\n"
     ]
    }
   ],
   "source": [
    "result = 0\n",
    "totals = []\n",
    "tup_list = []\n",
    "\n",
    "with open(\"numbers.dat\", \"r\") as f:\n",
    "    for item in f:\n",
    "        tup_list.append(tuple(map(int, item.strip().split(','))))\n",
    "              \n",
    "print(tup_list)"
   ]
  },
  {
   "cell_type": "code",
   "execution_count": 59,
   "metadata": {
    "collapsed": false
   },
   "outputs": [
    {
     "name": "stdout",
     "output_type": "stream",
     "text": [
      "[(1, 2, 3)]\n",
      "[(1, 2, 3), (4, 5, 6)]\n",
      "[(1, 2, 3), (4, 5, 6), (7, 8, 9)]\n"
     ]
    }
   ],
   "source": [
    "result = 0\n",
    "totals = []\n",
    "tup_list = []\n",
    "\n",
    "with open(\"numbers.dat\", \"r\") as f:\n",
    "    for item in f:\n",
    "        tup_list.append(tuple(map(int, item.strip().split(','))))\n",
    "              \n",
    "        print(tup_list)"
   ]
  },
  {
   "cell_type": "code",
   "execution_count": 60,
   "metadata": {
    "collapsed": false
   },
   "outputs": [
    {
     "name": "stdout",
     "output_type": "stream",
     "text": [
      "10\n",
      "9\n",
      "8\n",
      "7\n",
      "6\n",
      "5\n",
      "4\n",
      "3\n",
      "2\n",
      "1\n"
     ]
    }
   ],
   "source": [
    "for i in range(10,0,-1):\n",
    "    print(i)"
   ]
  },
  {
   "cell_type": "code",
   "execution_count": 61,
   "metadata": {
    "collapsed": false
   },
   "outputs": [
    {
     "ename": "TypeError",
     "evalue": "join() takes exactly one argument (2 given)",
     "output_type": "error",
     "traceback": [
      "\u001b[0;31m---------------------------------------------------------------------------\u001b[0m",
      "\u001b[0;31mTypeError\u001b[0m                                 Traceback (most recent call last)",
      "\u001b[0;32m<ipython-input-61-0a97752ebf91>\u001b[0m in \u001b[0;36m<module>\u001b[0;34m()\u001b[0m\n\u001b[1;32m      1\u001b[0m \u001b[1;32mfor\u001b[0m \u001b[0mi\u001b[0m \u001b[1;32min\u001b[0m \u001b[0mrange\u001b[0m\u001b[1;33m(\u001b[0m\u001b[1;36m10\u001b[0m\u001b[1;33m,\u001b[0m\u001b[1;36m0\u001b[0m\u001b[1;33m,\u001b[0m\u001b[1;33m-\u001b[0m\u001b[1;36m1\u001b[0m\u001b[1;33m)\u001b[0m\u001b[1;33m:\u001b[0m\u001b[1;33m\u001b[0m\u001b[0m\n\u001b[0;32m----> 2\u001b[0;31m     \u001b[0mprint\u001b[0m\u001b[1;33m(\u001b[0m\u001b[1;34m''\u001b[0m\u001b[1;33m.\u001b[0m\u001b[0mjoin\u001b[0m\u001b[1;33m(\u001b[0m\u001b[0mi\u001b[0m\u001b[1;33m,\u001b[0m\u001b[1;34m'-'\u001b[0m\u001b[1;33m)\u001b[0m\u001b[1;33m)\u001b[0m\u001b[1;33m\u001b[0m\u001b[0m\n\u001b[0m",
      "\u001b[0;31mTypeError\u001b[0m: join() takes exactly one argument (2 given)"
     ]
    }
   ],
   "source": [
    "for i in range(10,0,-1):\n",
    "    print(''.join(i,'-'))"
   ]
  },
  {
   "cell_type": "code",
   "execution_count": 62,
   "metadata": {
    "collapsed": false
   },
   "outputs": [
    {
     "ename": "AttributeError",
     "evalue": "'int' object has no attribute 'join'",
     "output_type": "error",
     "traceback": [
      "\u001b[0;31m---------------------------------------------------------------------------\u001b[0m",
      "\u001b[0;31mAttributeError\u001b[0m                            Traceback (most recent call last)",
      "\u001b[0;32m<ipython-input-62-faf70d63884a>\u001b[0m in \u001b[0;36m<module>\u001b[0;34m()\u001b[0m\n\u001b[1;32m      1\u001b[0m \u001b[1;32mfor\u001b[0m \u001b[0mi\u001b[0m \u001b[1;32min\u001b[0m \u001b[0mrange\u001b[0m\u001b[1;33m(\u001b[0m\u001b[1;36m10\u001b[0m\u001b[1;33m,\u001b[0m\u001b[1;36m0\u001b[0m\u001b[1;33m,\u001b[0m\u001b[1;33m-\u001b[0m\u001b[1;36m1\u001b[0m\u001b[1;33m)\u001b[0m\u001b[1;33m:\u001b[0m\u001b[1;33m\u001b[0m\u001b[0m\n\u001b[0;32m----> 2\u001b[0;31m     \u001b[0mprint\u001b[0m\u001b[1;33m(\u001b[0m\u001b[0mi\u001b[0m\u001b[1;33m.\u001b[0m\u001b[0mjoin\u001b[0m\u001b[1;33m(\u001b[0m\u001b[1;34m'-'\u001b[0m\u001b[1;33m)\u001b[0m\u001b[1;33m)\u001b[0m\u001b[1;33m\u001b[0m\u001b[0m\n\u001b[0m",
      "\u001b[0;31mAttributeError\u001b[0m: 'int' object has no attribute 'join'"
     ]
    }
   ],
   "source": [
    "for i in range(10,0,-1):\n",
    "    print(i.join('-'))"
   ]
  },
  {
   "cell_type": "code",
   "execution_count": 63,
   "metadata": {
    "collapsed": false
   },
   "outputs": [
    {
     "ename": "TypeError",
     "evalue": "can only join an iterable",
     "output_type": "error",
     "traceback": [
      "\u001b[0;31m---------------------------------------------------------------------------\u001b[0m",
      "\u001b[0;31mTypeError\u001b[0m                                 Traceback (most recent call last)",
      "\u001b[0;32m<ipython-input-63-63b5f7868a08>\u001b[0m in \u001b[0;36m<module>\u001b[0;34m()\u001b[0m\n\u001b[1;32m      1\u001b[0m \u001b[1;32mfor\u001b[0m \u001b[0mi\u001b[0m \u001b[1;32min\u001b[0m \u001b[0mrange\u001b[0m\u001b[1;33m(\u001b[0m\u001b[1;36m10\u001b[0m\u001b[1;33m,\u001b[0m\u001b[1;36m0\u001b[0m\u001b[1;33m,\u001b[0m\u001b[1;33m-\u001b[0m\u001b[1;36m1\u001b[0m\u001b[1;33m)\u001b[0m\u001b[1;33m:\u001b[0m\u001b[1;33m\u001b[0m\u001b[0m\n\u001b[0;32m----> 2\u001b[0;31m     \u001b[0mprint\u001b[0m\u001b[1;33m(\u001b[0m\u001b[1;34m'-'\u001b[0m\u001b[1;33m.\u001b[0m\u001b[0mjoin\u001b[0m\u001b[1;33m(\u001b[0m\u001b[0mi\u001b[0m\u001b[1;33m)\u001b[0m\u001b[1;33m)\u001b[0m\u001b[1;33m\u001b[0m\u001b[0m\n\u001b[0m",
      "\u001b[0;31mTypeError\u001b[0m: can only join an iterable"
     ]
    }
   ],
   "source": [
    "for i in range(10,0,-1):\n",
    "    print('-'.join(i))"
   ]
  },
  {
   "cell_type": "code",
   "execution_count": 64,
   "metadata": {
    "collapsed": false
   },
   "outputs": [
    {
     "ename": "TypeError",
     "evalue": "can only join an iterable",
     "output_type": "error",
     "traceback": [
      "\u001b[0;31m---------------------------------------------------------------------------\u001b[0m",
      "\u001b[0;31mTypeError\u001b[0m                                 Traceback (most recent call last)",
      "\u001b[0;32m<ipython-input-64-b98e73664161>\u001b[0m in \u001b[0;36m<module>\u001b[0;34m()\u001b[0m\n\u001b[1;32m      1\u001b[0m \u001b[1;32mfor\u001b[0m \u001b[0mi\u001b[0m \u001b[1;32min\u001b[0m \u001b[0mrange\u001b[0m\u001b[1;33m(\u001b[0m\u001b[1;36m10\u001b[0m\u001b[1;33m,\u001b[0m\u001b[1;36m0\u001b[0m\u001b[1;33m,\u001b[0m\u001b[1;33m-\u001b[0m\u001b[1;36m1\u001b[0m\u001b[1;33m)\u001b[0m\u001b[1;33m:\u001b[0m\u001b[1;33m\u001b[0m\u001b[0m\n\u001b[0;32m----> 2\u001b[0;31m     \u001b[1;34m'-'\u001b[0m\u001b[1;33m.\u001b[0m\u001b[0mjoin\u001b[0m\u001b[1;33m(\u001b[0m\u001b[0mi\u001b[0m\u001b[1;33m)\u001b[0m\u001b[1;33m\u001b[0m\u001b[0m\n\u001b[0m",
      "\u001b[0;31mTypeError\u001b[0m: can only join an iterable"
     ]
    }
   ],
   "source": [
    "for i in range(10,0,-1):\n",
    "    '-'.join(i)"
   ]
  },
  {
   "cell_type": "code",
   "execution_count": 65,
   "metadata": {
    "collapsed": false
   },
   "outputs": [
    {
     "ename": "SyntaxError",
     "evalue": "unexpected EOF while parsing (<ipython-input-65-6574c11f6565>, line 2)",
     "output_type": "error",
     "traceback": [
      "\u001b[0;36m  File \u001b[0;32m\"<ipython-input-65-6574c11f6565>\"\u001b[0;36m, line \u001b[0;32m2\u001b[0m\n\u001b[0;31m    '-'.join(map(str,i)\u001b[0m\n\u001b[0m                       ^\u001b[0m\n\u001b[0;31mSyntaxError\u001b[0m\u001b[0;31m:\u001b[0m unexpected EOF while parsing\n"
     ]
    }
   ],
   "source": [
    "for i in range(10,0,-1):\n",
    "    '-'.join(map(str,i)"
   ]
  },
  {
   "cell_type": "code",
   "execution_count": 3,
   "metadata": {
    "collapsed": false
   },
   "outputs": [
    {
     "ename": "TypeError",
     "evalue": "'int' object is not iterable",
     "output_type": "error",
     "traceback": [
      "\u001b[0;31m---------------------------------------------------------------------------\u001b[0m",
      "\u001b[0;31mTypeError\u001b[0m                                 Traceback (most recent call last)",
      "\u001b[0;32m<ipython-input-3-f640ea16b70b>\u001b[0m in \u001b[0;36m<module>\u001b[0;34m()\u001b[0m\n\u001b[1;32m      1\u001b[0m \u001b[1;32mfor\u001b[0m \u001b[0mi\u001b[0m \u001b[1;32min\u001b[0m \u001b[0mrange\u001b[0m\u001b[1;33m(\u001b[0m\u001b[1;36m10\u001b[0m\u001b[1;33m,\u001b[0m\u001b[1;36m0\u001b[0m\u001b[1;33m,\u001b[0m\u001b[1;33m-\u001b[0m\u001b[1;36m1\u001b[0m\u001b[1;33m)\u001b[0m\u001b[1;33m:\u001b[0m\u001b[1;33m\u001b[0m\u001b[0m\n\u001b[0;32m----> 2\u001b[0;31m     \u001b[0mi\u001b[0m \u001b[1;33m=\u001b[0m \u001b[0mmap\u001b[0m\u001b[1;33m(\u001b[0m\u001b[0mstr\u001b[0m\u001b[1;33m,\u001b[0m\u001b[0mi\u001b[0m\u001b[1;33m)\u001b[0m\u001b[1;33m\u001b[0m\u001b[0m\n\u001b[0m\u001b[1;32m      3\u001b[0m     \u001b[1;34m'-'\u001b[0m\u001b[1;33m.\u001b[0m\u001b[0mjoin\u001b[0m\u001b[1;33m(\u001b[0m\u001b[0mi\u001b[0m\u001b[1;33m)\u001b[0m\u001b[1;33m\u001b[0m\u001b[0m\n",
      "\u001b[0;31mTypeError\u001b[0m: 'int' object is not iterable"
     ]
    }
   ],
   "source": [
    "for i in range(10,0,-1):\n",
    "    i = map(str,i)\n",
    "    '-'.join(i)"
   ]
  },
  {
   "cell_type": "code",
   "execution_count": 67,
   "metadata": {
    "collapsed": false
   },
   "outputs": [
    {
     "name": "stdout",
     "output_type": "stream",
     "text": [
      "10-9-8-7-6-5-4-3-2-1-"
     ]
    }
   ],
   "source": [
    "for i in range(10,0,-1):\n",
    "    print(i,end='-')"
   ]
  },
  {
   "cell_type": "code",
   "execution_count": 68,
   "metadata": {
    "collapsed": false
   },
   "outputs": [
    {
     "ename": "IndentationError",
     "evalue": "unexpected indent (<ipython-input-68-a0d6de94420a>, line 2)",
     "output_type": "error",
     "traceback": [
      "\u001b[0;36m  File \u001b[0;32m\"<ipython-input-68-a0d6de94420a>\"\u001b[0;36m, line \u001b[0;32m2\u001b[0m\n\u001b[0;31m    '-'.join(range(10,0,-1)\u001b[0m\n\u001b[0m    ^\u001b[0m\n\u001b[0;31mIndentationError\u001b[0m\u001b[0;31m:\u001b[0m unexpected indent\n"
     ]
    }
   ],
   "source": [
    "\n",
    "    '-'.join(range(10,0,-1)"
   ]
  },
  {
   "cell_type": "code",
   "execution_count": 69,
   "metadata": {
    "collapsed": false
   },
   "outputs": [
    {
     "ename": "SyntaxError",
     "evalue": "unexpected EOF while parsing (<ipython-input-69-8e2d8a811f62>, line 1)",
     "output_type": "error",
     "traceback": [
      "\u001b[0;36m  File \u001b[0;32m\"<ipython-input-69-8e2d8a811f62>\"\u001b[0;36m, line \u001b[0;32m1\u001b[0m\n\u001b[0;31m    ''.join(range(10,0,-1)\u001b[0m\n\u001b[0m                          ^\u001b[0m\n\u001b[0;31mSyntaxError\u001b[0m\u001b[0;31m:\u001b[0m unexpected EOF while parsing\n"
     ]
    }
   ],
   "source": [
    "    ''.join(range(10,0,-1)"
   ]
  },
  {
   "cell_type": "code",
   "execution_count": 74,
   "metadata": {
    "collapsed": false
   },
   "outputs": [
    {
     "data": {
      "text/plain": [
       "'10987654321'"
      ]
     },
     "execution_count": 74,
     "metadata": {},
     "output_type": "execute_result"
    }
   ],
   "source": [
    "''.join(map(str,(range(10,0,-1))))"
   ]
  },
  {
   "cell_type": "code",
   "execution_count": 75,
   "metadata": {
    "collapsed": false
   },
   "outputs": [
    {
     "data": {
      "text/plain": [
       "'heloo worldd, it is me'"
      ]
     },
     "execution_count": 75,
     "metadata": {},
     "output_type": "execute_result"
    }
   ],
   "source": [
    "''.join(\"heloo worldd, it is me\")"
   ]
  },
  {
   "cell_type": "code",
   "execution_count": 76,
   "metadata": {
    "collapsed": false
   },
   "outputs": [
    {
     "data": {
      "text/plain": [
       "'h e l o   w o r l d ,   i t   i s   m e'"
      ]
     },
     "execution_count": 76,
     "metadata": {},
     "output_type": "execute_result"
    }
   ],
   "source": [
    "' '.join(\"helo world, it is me\")"
   ]
  },
  {
   "cell_type": "code",
   "execution_count": 77,
   "metadata": {
    "collapsed": false
   },
   "outputs": [
    {
     "data": {
      "text/plain": [
       "'h-e-l-o- -w-o-r-l-d-,- -i-t- -i-s- -m-e'"
      ]
     },
     "execution_count": 77,
     "metadata": {},
     "output_type": "execute_result"
    }
   ],
   "source": [
    "'-'.join(\"helo world, it is me\")"
   ]
  },
  {
   "cell_type": "code",
   "execution_count": 78,
   "metadata": {
    "collapsed": false
   },
   "outputs": [
    {
     "data": {
      "text/plain": [
       "'h-e-l-o- -w-o-r-l-d-,- -i-t- -i-s- -m-e'"
      ]
     },
     "execution_count": 78,
     "metadata": {},
     "output_type": "execute_result"
    }
   ],
   "source": [
    "'-'.join(\"helo world, it is me\".strip(' '))"
   ]
  },
  {
   "cell_type": "code",
   "execution_count": 79,
   "metadata": {
    "collapsed": false
   },
   "outputs": [
    {
     "name": "stdout",
     "output_type": "stream",
     "text": [
      "1\n",
      "2\n",
      "3\n"
     ]
    }
   ],
   "source": [
    "print(\"\\n1\\n2\\n3\\n\".strip())"
   ]
  },
  {
   "cell_type": "code",
   "execution_count": 80,
   "metadata": {
    "collapsed": false
   },
   "outputs": [
    {
     "name": "stdout",
     "output_type": "stream",
     "text": [
      "3\n"
     ]
    }
   ],
   "source": [
    "count = 0\n",
    "with open('numbers.dat','r') as f:\n",
    "    for line in f:\n",
    "        count+=1\n",
    "        \n",
    "print(count)\n",
    "        \n",
    "    "
   ]
  },
  {
   "cell_type": "code",
   "execution_count": 81,
   "metadata": {
    "collapsed": false
   },
   "outputs": [
    {
     "name": "stdout",
     "output_type": "stream",
     "text": [
      "please enter a password: ddsj\n",
      "please re-enter the password: dsal\n"
     ]
    },
    {
     "data": {
      "text/plain": [
       "'bad password'"
      ]
     },
     "execution_count": 81,
     "metadata": {},
     "output_type": "execute_result"
    }
   ],
   "source": [
    "def test_passwords(pass1, pass2):\n",
    "    has_digit = False\n",
    "    has_lower = False\n",
    "    has_upper = False\n",
    "    has_allowed = False\n",
    "    if len(pass1) > 9:\n",
    "            for symbol in pass1:\n",
    "                if symbol.isupper():\n",
    "                    has_upper = True\n",
    "                elif symbol.islower():\n",
    "                    has_lower = True\n",
    "                elif symbol.isdigit():\n",
    "                    has_digit = True\n",
    "                elif symbol in \"£$%^&*\":\n",
    "                    has_allowed = True\n",
    "                else:\n",
    "                    break\n",
    "    if has_upper and has_lower and has_allowed and has_digit:\n",
    "        return \"good password\"    \n",
    "    else:\n",
    "        return \"bad password\"\n",
    "    \n",
    "pass1 = input(\"please enter a password: \")\n",
    "pass2 = input(\"please re-enter the password: \")\n",
    "test_passwords(pass1, pass2)  "
   ]
  },
  {
   "cell_type": "code",
   "execution_count": 82,
   "metadata": {
    "collapsed": false
   },
   "outputs": [
    {
     "name": "stdout",
     "output_type": "stream",
     "text": [
      "please enter a password: dsfflLLfdfd$123jjd\n",
      "please re-enter the password: sdfsdlfsjfda\n"
     ]
    },
    {
     "data": {
      "text/plain": [
       "'good password'"
      ]
     },
     "execution_count": 82,
     "metadata": {},
     "output_type": "execute_result"
    }
   ],
   "source": [
    "def test_passwords(pass1, pass2):\n",
    "    has_digit = False\n",
    "    has_lower = False\n",
    "    has_upper = False\n",
    "    has_allowed = False\n",
    "    if len(pass1) > 9:\n",
    "            for symbol in pass1:\n",
    "                if symbol.isupper():\n",
    "                    has_upper = True\n",
    "                elif symbol.islower():\n",
    "                    has_lower = True\n",
    "                elif symbol.isdigit():\n",
    "                    has_digit = True\n",
    "                elif symbol in \"£$%^&*\":\n",
    "                    has_allowed = True\n",
    "                else:\n",
    "                    break\n",
    "    if has_upper and has_lower and has_allowed and has_digit:\n",
    "        return \"good password\"    \n",
    "    else:\n",
    "        return \"bad password\"\n",
    "    \n",
    "pass1 = input(\"please enter a password: \")\n",
    "pass2 = input(\"please re-enter the password: \")\n",
    "test_passwords(pass1, pass2)  "
   ]
  },
  {
   "cell_type": "code",
   "execution_count": 83,
   "metadata": {
    "collapsed": false
   },
   "outputs": [
    {
     "name": "stdout",
     "output_type": "stream",
     "text": [
      "please enter a password: sdf\n",
      "please re-enter the password: sdfsd\n",
      "Good Password\n",
      "Bad Password\n",
      "Bad Password\n"
     ]
    }
   ],
   "source": [
    "\n",
    "def matches_specification(passw):\n",
    "    has_upper = False\n",
    "    has_lower = False\n",
    "    has_digit = False\n",
    "    has_special_char = False\n",
    "\n",
    "    for symbol in passw:\n",
    "        if symbol.isupper():\n",
    "            has_upper = True\n",
    "        elif symbol.islower():\n",
    "            has_lower = True\n",
    "        elif symbol.isdigit():\n",
    "            has_digit = True\n",
    "        elif symbol in \"£$%^&*\":\n",
    "            has_special_char = True\n",
    "        else:\n",
    "            return False\n",
    "    return has_upper and has_lower and has_digit and has_special_char\n",
    "\n",
    "def test_both_passwords(passw1, passw2):\n",
    "    is_good = False\n",
    "    if len(passw1) > 9:                     # is long enough\n",
    "        if matches_specification(passw1):   # satisfies rules\n",
    "            if passw1 == passw2:            # matches other password\n",
    "                is_good = True\n",
    "    if is_good:\n",
    "        print(\"Good Password\")\n",
    "    else:\n",
    "        print(\"Bad Password\")\n",
    "\n",
    "pass1 = input(\"please enter a password: \")\n",
    "pass2 = input(\"please re-enter the password: \")\n",
    "test_both_passwords(\"ABcd12$MNOP\", \"ABcd12$MNOP\")\n",
    "test_both_passwords(\"(ABcd12$MNOP\", \"(ABcd12$MNOP\")\n",
    "\n",
    "test_both_passwords(pass1, pass2)   "
   ]
  },
  {
   "cell_type": "code",
   "execution_count": 84,
   "metadata": {
    "collapsed": false
   },
   "outputs": [
    {
     "name": "stdout",
     "output_type": "stream",
     "text": [
      "please enter a password: fdgDSFSD342$f\n",
      "please re-enter the password: fdsfas\n"
     ]
    },
    {
     "data": {
      "text/plain": [
       "'bad password'"
      ]
     },
     "execution_count": 84,
     "metadata": {},
     "output_type": "execute_result"
    }
   ],
   "source": [
    "def test_passwords(pass1, pass2):\n",
    "    has_digit = False\n",
    "    has_lower = False\n",
    "    has_upper = False\n",
    "    has_allowed = False\n",
    "    if len(pass1) > 9:\n",
    "            for symbol in pass1:\n",
    "                if symbol.isupper():\n",
    "                    has_upper = True\n",
    "                elif symbol.islower():\n",
    "                    has_lower = True\n",
    "                elif symbol.isdigit():\n",
    "                    has_digit = True\n",
    "                elif symbol in \"£$%^&*\":\n",
    "                    has_allowed = True\n",
    "                else:\n",
    "                    break\n",
    "    if has_upper and has_lower and has_allowed and has_digit and pass1 == pass2:\n",
    "        return \"good password\"    \n",
    "    else:\n",
    "        return \"bad password\"\n",
    "    \n",
    "pass1 = input(\"please enter a password: \")\n",
    "pass2 = input(\"please re-enter the password: \")\n",
    "test_passwords(pass1, pass2)      \n"
   ]
  },
  {
   "cell_type": "code",
   "execution_count": 6,
   "metadata": {
    "collapsed": false
   },
   "outputs": [
    {
     "name": "stdout",
     "output_type": "stream",
     "text": [
      "T\n",
      "h\n",
      "i\n",
      "s\n",
      " \n",
      "w\n",
      "a\n",
      "s\n",
      " \n",
      "n\n",
      "i\n",
      "c\n",
      "e\n",
      " \n",
      "d\n",
      "a\n",
      "y\n",
      " \n",
      "a\n",
      "t\n",
      " \n",
      "w\n",
      "o\n",
      "r\n",
      "k\n"
     ]
    }
   ],
   "source": [
    "sentence = \"This was nice day at work\"\n",
    "dic = {'nice':'beautifull', 'work':'school'}\n",
    "\n",
    "for word in sentence:\n",
    "    if word in dic:\n",
    "        word = dic[word]\n",
    "    print(word)\n",
    "    "
   ]
  },
  {
   "cell_type": "code",
   "execution_count": 87,
   "metadata": {
    "collapsed": false
   },
   "outputs": [
    {
     "name": "stdout",
     "output_type": "stream",
     "text": [
      "This\n",
      "was\n",
      "beautifull\n",
      "day\n",
      "at\n",
      "school\n"
     ]
    }
   ],
   "source": [
    "sentence = \"This was nice day at work\"\n",
    "dic = {'nice':'beautifull', 'work':'school'}\n",
    "\n",
    "for word in sentence.split():\n",
    "    if word in dic:\n",
    "        word = dic[word]\n",
    "    print(word)"
   ]
  },
  {
   "cell_type": "code",
   "execution_count": 89,
   "metadata": {
    "collapsed": false
   },
   "outputs": [
    {
     "name": "stdout",
     "output_type": "stream",
     "text": [
      "This was beautifull day at school "
     ]
    }
   ],
   "source": [
    "sentence = \"This was nice day at work\"\n",
    "dic = {'nice':'beautifull', 'work':'school'}\n",
    "\n",
    "for word in sentence.strip().split():\n",
    "    if word in dic:\n",
    "        word = dic[word]\n",
    "    print(word, end = ' ')"
   ]
  },
  {
   "cell_type": "code",
   "execution_count": 90,
   "metadata": {
    "collapsed": false
   },
   "outputs": [
    {
     "name": "stdout",
     "output_type": "stream",
     "text": [
      "This was beautifull day at school "
     ]
    }
   ],
   "source": [
    "sentence = \"This was nice day at work\"\n",
    "dic = {'nice':'beautifull', 'work':'school'}\n",
    "\n",
    "for word in sentence.split():\n",
    "    if word in dic:\n",
    "        word = dic[word]\n",
    "    print(word, end = ' ')"
   ]
  },
  {
   "cell_type": "code",
   "execution_count": 7,
   "metadata": {
    "collapsed": false
   },
   "outputs": [
    {
     "name": "stdout",
     "output_type": "stream",
     "text": [
      "&\n",
      "^\n",
      "£\n",
      "&$\n",
      "&&\n",
      "&^\n",
      "&£\n",
      "^$\n",
      "^&\n",
      "^^\n"
     ]
    }
   ],
   "source": [
    "num_order = {'$' : '&', '&' : '^', '^' : '£', '£' : '$'}\n",
    "\n",
    "def last_symbol():\n",
    "    return sorted(num_order)[len(num_order) - 1]\n",
    "\n",
    "def first_symbol():\n",
    "    return sorted(num_order)[0]\n",
    "\n",
    "def mynext(symbol):\n",
    "    if symbol == last_symbol():\n",
    "        return (1, first_symbol())\n",
    "    else:\n",
    "        return (0, num_order[symbol])\n",
    "\n",
    "def first_counting_symbol():\n",
    "    return num_order[first_symbol()]\n",
    "\n",
    "number = [first_symbol()]\n",
    "for i in range(10):\n",
    "    carry = 1\n",
    "    for idx, symbol in enumerate(number):\n",
    "        if carry == 1:\n",
    "            carry, symbol = mynext(symbol)\n",
    "            number[idx] = symbol\n",
    "        else:\n",
    "            break\n",
    "    if carry == 1:\n",
    "        number.append(first_counting_symbol())\n",
    "    print(''.join(number[::-1]))"
   ]
  },
  {
   "cell_type": "code",
   "execution_count": 92,
   "metadata": {
    "collapsed": false
   },
   "outputs": [
    {
     "ename": "TypeError",
     "evalue": "sequence item 0: expected str instance, int found",
     "output_type": "error",
     "traceback": [
      "\u001b[0;31m---------------------------------------------------------------------------\u001b[0m",
      "\u001b[0;31mTypeError\u001b[0m                                 Traceback (most recent call last)",
      "\u001b[0;32m<ipython-input-92-f523dc3a0df1>\u001b[0m in \u001b[0;36m<module>\u001b[0;34m()\u001b[0m\n\u001b[1;32m     27\u001b[0m     \u001b[1;32mif\u001b[0m \u001b[0mcarry\u001b[0m \u001b[1;33m==\u001b[0m \u001b[1;36m1\u001b[0m\u001b[1;33m:\u001b[0m\u001b[1;33m\u001b[0m\u001b[0m\n\u001b[1;32m     28\u001b[0m         \u001b[0mnumber\u001b[0m\u001b[1;33m.\u001b[0m\u001b[0mappend\u001b[0m\u001b[1;33m(\u001b[0m\u001b[0mfirst_counting_symbol\u001b[0m\u001b[1;33m(\u001b[0m\u001b[1;33m)\u001b[0m\u001b[1;33m)\u001b[0m\u001b[1;33m\u001b[0m\u001b[0m\n\u001b[0;32m---> 29\u001b[0;31m     \u001b[0mprint\u001b[0m\u001b[1;33m(\u001b[0m\u001b[1;34m''\u001b[0m\u001b[1;33m.\u001b[0m\u001b[0mjoin\u001b[0m\u001b[1;33m(\u001b[0m\u001b[0mnumber\u001b[0m\u001b[1;33m[\u001b[0m\u001b[1;33m:\u001b[0m\u001b[1;33m:\u001b[0m\u001b[1;33m-\u001b[0m\u001b[1;36m1\u001b[0m\u001b[1;33m]\u001b[0m\u001b[1;33m)\u001b[0m\u001b[1;33m)\u001b[0m\u001b[1;33m\u001b[0m\u001b[0m\n\u001b[0m",
      "\u001b[0;31mTypeError\u001b[0m: sequence item 0: expected str instance, int found"
     ]
    }
   ],
   "source": [
    "num_order = {1 : 2, 2 : 3, 3 : 4, 4 : 5}\n",
    "\n",
    "def last_symbol():\n",
    "    return sorted(num_order)[len(num_order) - 1]\n",
    "\n",
    "def first_symbol():\n",
    "    return sorted(num_order)[0]\n",
    "\n",
    "def mynext(symbol):\n",
    "    if symbol == last_symbol():\n",
    "        return (1, first_symbol())\n",
    "    else:\n",
    "        return (0, num_order[symbol])\n",
    "\n",
    "def first_counting_symbol():\n",
    "    return num_order[first_symbol()]\n",
    "\n",
    "number = [first_symbol()]\n",
    "for i in range(5):\n",
    "    carry = 1\n",
    "    for idx, symbol in enumerate(number):\n",
    "        if carry == 1:\n",
    "            carry, symbol = mynext(symbol)\n",
    "            number[idx] = symbol\n",
    "        else:\n",
    "            break\n",
    "    if carry == 1:\n",
    "        number.append(first_counting_symbol())\n",
    "    print(''.join(number[::-1]))"
   ]
  },
  {
   "cell_type": "code",
   "execution_count": 10,
   "metadata": {
    "collapsed": false
   },
   "outputs": [
    {
     "name": "stdout",
     "output_type": "stream",
     "text": [
      "2\n",
      "3\n",
      "4\n",
      "21\n",
      "22\n",
      "23\n",
      "24\n",
      "31\n",
      "32\n",
      "33\n",
      "34\n",
      "41\n",
      "42\n",
      "43\n",
      "44\n",
      "211\n",
      "212\n",
      "213\n",
      "214\n",
      "221\n",
      "222\n",
      "223\n",
      "224\n",
      "231\n",
      "232\n",
      "233\n",
      "234\n",
      "241\n",
      "242\n",
      "243\n",
      "244\n",
      "311\n",
      "312\n",
      "313\n",
      "314\n",
      "321\n",
      "322\n",
      "323\n",
      "324\n",
      "331\n"
     ]
    }
   ],
   "source": [
    "num_order = {1 : 2, 2 : 3, 3 : 4, 4 : 5}\n",
    "\n",
    "def last_symbol():\n",
    "    return sorted(num_order)[len(num_order) - 1] # num_order[3] \n",
    "\n",
    "def first_symbol():\n",
    "    return sorted(num_order)[0]\n",
    "\n",
    "def mynext(symbol):\n",
    "    if symbol == last_symbol():\n",
    "        return (1, first_symbol())\n",
    "    else:\n",
    "        return (0, num_order[symbol])\n",
    "\n",
    "def first_counting_symbol():\n",
    "    return num_order[first_symbol()]\n",
    "\n",
    "number = [first_symbol()]\n",
    "for i in range(40):\n",
    "    carry = 1\n",
    "    for idx, symbol in enumerate(number):\n",
    "        if carry == 1:\n",
    "            carry, symbol = mynext(symbol)\n",
    "            number[idx] = symbol\n",
    "        else:\n",
    "            break\n",
    "    if carry == 1:\n",
    "        number.append(first_counting_symbol())\n",
    "    print(''.join(map(str,number[::-1])))"
   ]
  },
  {
   "cell_type": "code",
   "execution_count": 3,
   "metadata": {
    "collapsed": false
   },
   "outputs": [
    {
     "name": "stdout",
     "output_type": "stream",
     "text": [
      "1\n",
      "2\n",
      "10\n"
     ]
    }
   ],
   "source": [
    "num_order = {0 : 1, 1 : 2, 2 : 3}\n",
    "\n",
    "def last_symbol():\n",
    "    return sorted(num_order)[len(num_order) - 1] # num_order[3] \n",
    "\n",
    "def first_symbol():\n",
    "    return sorted(num_order)[0]\n",
    "\n",
    "def mynext(symbol):\n",
    "    if symbol == last_symbol():\n",
    "        return (1, first_symbol())\n",
    "    else:\n",
    "        return (0, num_order[symbol])\n",
    "\n",
    "def first_counting_symbol():\n",
    "    return num_order[first_symbol()]\n",
    "\n",
    "number = [first_symbol()]\n",
    "for i in range(3):\n",
    "    carry = 1\n",
    "    for idx, symbol in enumerate(number):\n",
    "        if carry == 1:\n",
    "            carry, symbol = mynext(symbol)\n",
    "            number[idx] = symbol\n",
    "        else:\n",
    "            break\n",
    "    if carry == 1:\n",
    "        number.append(first_counting_symbol())\n",
    "    print(''.join(map(str,number[::-1])))"
   ]
  },
  {
   "cell_type": "code",
   "execution_count": 7,
   "metadata": {
    "collapsed": false
   },
   "outputs": [
    {
     "name": "stdout",
     "output_type": "stream",
     "text": [
      "12\n",
      "20\n",
      "21\n"
     ]
    }
   ],
   "source": [
    "num_order = {0 : 1, 1 : 2, 2 : 3}\n",
    "\n",
    "def last_symbol():\n",
    "    return sorted(num_order)[len(num_order) - 1] # num_order[3] \n",
    "\n",
    "def first_symbol():\n",
    "    return sorted(num_order)[0]\n",
    "\n",
    "def mynext(symbol):\n",
    "    if symbol == last_symbol():\n",
    "        return (1, first_symbol())\n",
    "    else:\n",
    "        return (0, num_order[symbol])\n",
    "\n",
    "def first_counting_symbol():\n",
    "    return num_order[first_symbol()]\n",
    "\n",
    "number = [1,1]\n",
    "for i in range(3):\n",
    "    carry = 1\n",
    "    for idx, symbol in enumerate(number):\n",
    "        if carry == 1:\n",
    "            carry, symbol = mynext(symbol)\n",
    "            number[idx] = symbol\n",
    "        else:\n",
    "            break\n",
    "    if carry == 1:\n",
    "        number.append(first_counting_symbol())\n",
    "    print(''.join(map(str,number[::-1])))"
   ]
  },
  {
   "cell_type": "code",
   "execution_count": null,
   "metadata": {
    "collapsed": true
   },
   "outputs": [],
   "source": []
  }
 ],
 "metadata": {
  "kernelspec": {
   "display_name": "Python 3",
   "language": "python",
   "name": "python3"
  },
  "language_info": {
   "codemirror_mode": {
    "name": "ipython",
    "version": 3
   },
   "file_extension": ".py",
   "mimetype": "text/x-python",
   "name": "python",
   "nbconvert_exporter": "python",
   "pygments_lexer": "ipython3",
   "version": "3.6.0"
  }
 },
 "nbformat": 4,
 "nbformat_minor": 2
}
