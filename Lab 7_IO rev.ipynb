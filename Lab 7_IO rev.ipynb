{
 "cells": [
  {
   "cell_type": "code",
   "execution_count": 1,
   "metadata": {
    "collapsed": false
   },
   "outputs": [
    {
     "data": {
      "text/plain": [
       "3"
      ]
     },
     "execution_count": 1,
     "metadata": {},
     "output_type": "execute_result"
    }
   ],
   "source": [
    "n = (1, 2, 3)\n",
    "len(n)"
   ]
  },
  {
   "cell_type": "code",
   "execution_count": 2,
   "metadata": {
    "collapsed": false
   },
   "outputs": [
    {
     "data": {
      "text/plain": [
       "3"
      ]
     },
     "execution_count": 2,
     "metadata": {},
     "output_type": "execute_result"
    }
   ],
   "source": [
    "n[2]"
   ]
  },
  {
   "cell_type": "code",
   "execution_count": 3,
   "metadata": {
    "collapsed": false
   },
   "outputs": [
    {
     "data": {
      "text/plain": [
       "3"
      ]
     },
     "execution_count": 3,
     "metadata": {},
     "output_type": "execute_result"
    }
   ],
   "source": [
    "n[2]"
   ]
  },
  {
   "cell_type": "code",
   "execution_count": 4,
   "metadata": {
    "collapsed": false
   },
   "outputs": [
    {
     "ename": "TypeError",
     "evalue": "'tuple' object does not support item assignment",
     "output_type": "error",
     "traceback": [
      "\u001b[0;31m---------------------------------------------------------------------------\u001b[0m",
      "\u001b[0;31mTypeError\u001b[0m                                 Traceback (most recent call last)",
      "\u001b[0;32m<ipython-input-4-5b203dc22dd0>\u001b[0m in \u001b[0;36m<module>\u001b[0;34m()\u001b[0m\n\u001b[0;32m----> 1\u001b[0;31m \u001b[0mn\u001b[0m\u001b[1;33m[\u001b[0m\u001b[1;36m2\u001b[0m\u001b[1;33m]\u001b[0m \u001b[1;33m=\u001b[0m \u001b[1;36m5\u001b[0m\u001b[1;33m\u001b[0m\u001b[0m\n\u001b[0m",
      "\u001b[0;31mTypeError\u001b[0m: 'tuple' object does not support item assignment"
     ]
    }
   ],
   "source": [
    "n[2] = 5"
   ]
  },
  {
   "cell_type": "code",
   "execution_count": null,
   "metadata": {
    "collapsed": true
   },
   "outputs": [],
   "source": [
    "n_list = [1, 2, 3]"
   ]
  },
  {
   "cell_type": "code",
   "execution_count": null,
   "metadata": {
    "collapsed": false
   },
   "outputs": [],
   "source": [
    "n_list"
   ]
  },
  {
   "cell_type": "code",
   "execution_count": null,
   "metadata": {
    "collapsed": false
   },
   "outputs": [],
   "source": [
    "n_list[3]"
   ]
  },
  {
   "cell_type": "code",
   "execution_count": null,
   "metadata": {
    "collapsed": false
   },
   "outputs": [],
   "source": [
    "n_list[2]"
   ]
  },
  {
   "cell_type": "code",
   "execution_count": null,
   "metadata": {
    "collapsed": true
   },
   "outputs": [],
   "source": [
    "n_list[2] = 5"
   ]
  },
  {
   "cell_type": "code",
   "execution_count": null,
   "metadata": {
    "collapsed": false
   },
   "outputs": [],
   "source": [
    "n_list"
   ]
  },
  {
   "cell_type": "code",
   "execution_count": null,
   "metadata": {
    "collapsed": false
   },
   "outputs": [],
   "source": [
    "n_list[::1] = 6"
   ]
  },
  {
   "cell_type": "code",
   "execution_count": null,
   "metadata": {
    "collapsed": false
   },
   "outputs": [],
   "source": [
    "with open(\"numbers.dat\",\"r\") as f:"
   ]
  },
  {
   "cell_type": "code",
   "execution_count": null,
   "metadata": {
    "collapsed": false
   },
   "outputs": [],
   "source": [
    "with open(\"numbers.dat\",\"r\") as f:\n",
    "    for line in f:\n",
    "        print(line)"
   ]
  },
  {
   "cell_type": "code",
   "execution_count": null,
   "metadata": {
    "collapsed": false
   },
   "outputs": [],
   "source": [
    "with open(\"numbers.dat\",\"r\") as f:\n",
    "    for line in f:\n",
    "        print(line, end = \"\")"
   ]
  },
  {
   "cell_type": "code",
   "execution_count": null,
   "metadata": {
    "collapsed": false
   },
   "outputs": [],
   "source": [
    "with open(\"numbers.dat\",\"r\") as f:\n",
    "    for line in f:\n",
    "        print(line.strip(\"\\n\"))"
   ]
  },
  {
   "cell_type": "code",
   "execution_count": null,
   "metadata": {
    "collapsed": false
   },
   "outputs": [],
   "source": [
    "with open(\"numbers.dat\",\"r\") as f:\n",
    "    for line in f:\n",
    "        print(line.strip(\"\\n\"), end = \"\")"
   ]
  },
  {
   "cell_type": "code",
   "execution_count": null,
   "metadata": {
    "collapsed": false
   },
   "outputs": [],
   "source": [
    "\"1,2,3,4,5\".replace(',', ' ')"
   ]
  },
  {
   "cell_type": "code",
   "execution_count": null,
   "metadata": {
    "collapsed": true
   },
   "outputs": [],
   "source": [
    "num = [1,2,3]"
   ]
  },
  {
   "cell_type": "code",
   "execution_count": null,
   "metadata": {
    "collapsed": false
   },
   "outputs": [],
   "source": [
    "num.replace"
   ]
  },
  {
   "cell_type": "code",
   "execution_count": null,
   "metadata": {
    "collapsed": false
   },
   "outputs": [],
   "source": [
    "num1 = \"1,2,3,4,5\"\n",
    "num1.replace(',', '   ')"
   ]
  },
  {
   "cell_type": "code",
   "execution_count": null,
   "metadata": {
    "collapsed": false
   },
   "outputs": [],
   "source": [
    "num1 = \"Go Home\"\n",
    "num1.replace('G', 'B')"
   ]
  },
  {
   "cell_type": "code",
   "execution_count": 2,
   "metadata": {
    "collapsed": false
   },
   "outputs": [
    {
     "name": "stdout",
     "output_type": "stream",
     "text": [
      "[6, 15, 24, 33]\n"
     ]
    }
   ],
   "source": [
    "totals = []\n",
    "\n",
    "with open(\"numbers.dat\", \"r\") as f:\n",
    "    for line in f:\n",
    "        stringy_numbers = line.strip().split(',')    \n",
    "        totals.append(sum(map(int, stringy_numbers)))\n",
    "\n",
    "print(totals)"
   ]
  },
  {
   "cell_type": "code",
   "execution_count": null,
   "metadata": {
    "collapsed": false
   },
   "outputs": [],
   "source": [
    "h = (1, 2, 3)\n",
    "type(h)"
   ]
  },
  {
   "cell_type": "code",
   "execution_count": null,
   "metadata": {
    "collapsed": false
   },
   "outputs": [],
   "source": [
    "totals = []\n",
    "\n",
    "with open(\"numbers.dat\", \"r\") as f:\n",
    "    for line in f:\n",
    "        stringy_numbers = line.strip().split(',')    \n",
    "        totals.append(sum(map(int, stringy_numbers)))\n",
    "        totals = tuple(totals)\n",
    "type(totals)\n",
    "print(totals)"
   ]
  },
  {
   "cell_type": "code",
   "execution_count": null,
   "metadata": {
    "collapsed": false
   },
   "outputs": [],
   "source": [
    "totals = []\n",
    "\n",
    "with open(\"numbers.dat\", \"r\") as f:\n",
    "    for line in f:\n",
    "        stringy_numbers = line.strip().split(',')    \n",
    "        totals.append(sum(map(int, stringy_numbers)))\n",
    "    totals = tuple(totals)\n",
    "type(totals)\n",
    "print(totals)"
   ]
  },
  {
   "cell_type": "code",
   "execution_count": null,
   "metadata": {
    "collapsed": false
   },
   "outputs": [],
   "source": [
    "totals = []\n",
    "\n",
    "with open(\"numbers.dat\", \"r\") as f:\n",
    "    for line in f:\n",
    "        stringy_numbers = line.strip().split(',')    \n",
    "        totals.append(sum(map(int, stringy_numbers)))\n",
    "totals = tuple(totals)\n",
    "type(totals)\n",
    "print(totals)"
   ]
  },
  {
   "cell_type": "code",
   "execution_count": null,
   "metadata": {
    "collapsed": false
   },
   "outputs": [],
   "source": [
    "totals = []\n",
    "\n",
    "with open(\"numbers.dat\", \"r\") as f:\n",
    "    for line in f:\n",
    "        stringy_numbers = (line.strip().split(','), end = ''    \n",
    "        totals.append(sum(map(int, stringy_numbers)))\n",
    "totals = tuple(totals)\n",
    "type(totals)\n",
    "print(totals)"
   ]
  },
  {
   "cell_type": "code",
   "execution_count": null,
   "metadata": {
    "collapsed": false
   },
   "outputs": [],
   "source": [
    "totals = []\n",
    "\n",
    "with open(\"numbers.dat\", \"r\") as f:\n",
    "    for line in f:\n",
    "        stringy_numbers = (line.strip().split(','), end = '')    \n",
    "        totals.append(sum(map(int, stringy_numbers)))\n",
    "totals = tuple(totals)\n",
    "type(totals)\n",
    "print(totals)"
   ]
  },
  {
   "cell_type": "code",
   "execution_count": null,
   "metadata": {
    "collapsed": false
   },
   "outputs": [],
   "source": [
    "totals = []\n",
    "\n",
    "with open(\"numbers.dat\", \"r\") as f:\n",
    "    for line in f:\n",
    "        stringy_numbers = (line.strip().split(','))    \n",
    "        totals.append(sum(map(int, stringy_numbers)))\n",
    "totals = tuple(totals)\n",
    "type(totals)\n",
    "print(totals)"
   ]
  },
  {
   "cell_type": "code",
   "execution_count": null,
   "metadata": {
    "collapsed": false
   },
   "outputs": [],
   "source": [
    "totals = []\n",
    "\n",
    "with open(\"numbers.dat\", \"r\") as f:\n",
    "    for line in f:\n",
    "        stringy_numbers = (line.strip().split(','))    \n",
    "        totals.append(sum(map(int, stringy_numbers)))\n",
    "\n",
    "\n",
    "print(totals)"
   ]
  },
  {
   "cell_type": "code",
   "execution_count": null,
   "metadata": {
    "collapsed": false
   },
   "outputs": [],
   "source": [
    "totals = []\n",
    "\n",
    "with open(\"numbers.dat\", \"r\") as f:\n",
    "    for line in f:\n",
    "        stringy_numbers = line.strip().split(',')    \n",
    "        totals.append(sum(map(int, stringy_numbers)))\n",
    "\n",
    "print(totals)"
   ]
  },
  {
   "cell_type": "code",
   "execution_count": null,
   "metadata": {
    "collapsed": false
   },
   "outputs": [],
   "source": [
    "totals = []\n",
    "\n",
    "with open(\"numbers.dat\", \"r\") as f:\n",
    "    for line in f:\n",
    "        stringy_numbers = line.strip('', '\\n').split(',')    \n",
    "        totals.append(sum(map(int, stringy_numbers)))\n",
    "\n",
    "print(totals)"
   ]
  },
  {
   "cell_type": "code",
   "execution_count": null,
   "metadata": {
    "collapsed": false
   },
   "outputs": [],
   "source": [
    "totals = []\n",
    "\n",
    "with open(\"numbers.dat\", \"r\") as f:\n",
    "    for line in f:\n",
    "        stringy_numbers = line.strip(' ').split(',')    \n",
    "        totals.append(sum(map(int, stringy_numbers)))\n",
    "\n",
    "print(totals)"
   ]
  },
  {
   "cell_type": "code",
   "execution_count": null,
   "metadata": {
    "collapsed": false
   },
   "outputs": [],
   "source": [
    "totals = []\n",
    "\n",
    "with open(\"numbers.dat\", \"r\") as f:\n",
    "    for line in f:\n",
    "        stringy_numbers = line.strip(' ').split(',')    \n",
    "        totals.append(sum(map(int, stringy_numbers)))\n",
    "\n",
    "print(totals)"
   ]
  },
  {
   "cell_type": "code",
   "execution_count": null,
   "metadata": {
    "collapsed": false
   },
   "outputs": [],
   "source": [
    "totals = []\n",
    "\n",
    "with open(\"numbers.dat\", \"r\") as f:\n",
    "    for line in f:\n",
    "        stringy_numbers = line.strip(' ').split(',')\n",
    "        print(line)\n",
    "    \n",
    "\n",
    "print(totals)"
   ]
  },
  {
   "cell_type": "code",
   "execution_count": null,
   "metadata": {
    "collapsed": false
   },
   "outputs": [],
   "source": [
    "totals = []\n",
    "\n",
    "with open(\"numbers.dat\", \"r\") as f:\n",
    "    for line in f:\n",
    "        stringy_numbers = line.strip(' ').split(',')\n",
    "        print(stringy_numbers)\n",
    "    \n",
    "\n",
    "print(totals)"
   ]
  },
  {
   "cell_type": "code",
   "execution_count": 5,
   "metadata": {
    "collapsed": false
   },
   "outputs": [
    {
     "name": "stdout",
     "output_type": "stream",
     "text": [
      "[6, 15, 24, 33]\n"
     ]
    }
   ],
   "source": [
    "result = 0\n",
    "totals = []\n",
    "\n",
    "with open(\"numbers.dat\", \"r\") as f:\n",
    "    for item in f:\n",
    "        numbers = item.strip().split(',')\n",
    "        intgrs = list(map(int, numbers))\n",
    "        \n",
    "        totals.append(sum(intgrs))\n",
    "print(totals)"
   ]
  },
  {
   "cell_type": "code",
   "execution_count": 6,
   "metadata": {
    "collapsed": false
   },
   "outputs": [
    {
     "name": "stdout",
     "output_type": "stream",
     "text": [
      "(6, 15, 24, 33)\n"
     ]
    }
   ],
   "source": [
    "result = 0\n",
    "totals = []\n",
    "\n",
    "with open(\"numbers.dat\", \"r\") as f:\n",
    "    for item in f:\n",
    "        numbers = item.strip().split(',')\n",
    "        intgrs = list(map(int, numbers))\n",
    "        \n",
    "        totals.append(sum(intgrs))\n",
    "totals = tuple(totals)\n",
    "print(totals)"
   ]
  },
  {
   "cell_type": "code",
   "execution_count": 7,
   "metadata": {
    "collapsed": false
   },
   "outputs": [
    {
     "data": {
      "text/plain": [
       "tuple"
      ]
     },
     "execution_count": 7,
     "metadata": {},
     "output_type": "execute_result"
    }
   ],
   "source": [
    "type(totals)"
   ]
  },
  {
   "cell_type": "code",
   "execution_count": 9,
   "metadata": {
    "collapsed": false
   },
   "outputs": [
    {
     "ename": "NameError",
     "evalue": "name 'tuples' is not defined",
     "output_type": "error",
     "traceback": [
      "\u001b[0;31m---------------------------------------------------------------------------\u001b[0m",
      "\u001b[0;31mNameError\u001b[0m                                 Traceback (most recent call last)",
      "\u001b[0;32m<ipython-input-9-1df74beff832>\u001b[0m in \u001b[0;36m<module>\u001b[0;34m()\u001b[0m\n\u001b[1;32m      5\u001b[0m     \u001b[1;32mfor\u001b[0m \u001b[0mitem\u001b[0m \u001b[1;32min\u001b[0m \u001b[0mf\u001b[0m\u001b[1;33m:\u001b[0m\u001b[1;33m\u001b[0m\u001b[0m\n\u001b[1;32m      6\u001b[0m         \u001b[0mnumbers\u001b[0m \u001b[1;33m=\u001b[0m \u001b[0mitem\u001b[0m\u001b[1;33m.\u001b[0m\u001b[0mstrip\u001b[0m\u001b[1;33m(\u001b[0m\u001b[1;33m)\u001b[0m\u001b[1;33m.\u001b[0m\u001b[0msplit\u001b[0m\u001b[1;33m(\u001b[0m\u001b[1;34m','\u001b[0m\u001b[1;33m)\u001b[0m\u001b[1;33m\u001b[0m\u001b[0m\n\u001b[0;32m----> 7\u001b[0;31m         \u001b[0mintgrs\u001b[0m \u001b[1;33m=\u001b[0m \u001b[0mlist\u001b[0m\u001b[1;33m(\u001b[0m\u001b[0mmap\u001b[0m\u001b[1;33m(\u001b[0m\u001b[0mtuples\u001b[0m\u001b[1;33m,\u001b[0m \u001b[0mnumbers\u001b[0m\u001b[1;33m)\u001b[0m\u001b[1;33m)\u001b[0m\u001b[1;33m\u001b[0m\u001b[0m\n\u001b[0m\u001b[1;32m      8\u001b[0m \u001b[1;33m\u001b[0m\u001b[0m\n\u001b[1;32m      9\u001b[0m         \u001b[0mtotals\u001b[0m\u001b[1;33m.\u001b[0m\u001b[0mappend\u001b[0m\u001b[1;33m(\u001b[0m\u001b[0msum\u001b[0m\u001b[1;33m(\u001b[0m\u001b[0mintgrs\u001b[0m\u001b[1;33m)\u001b[0m\u001b[1;33m)\u001b[0m\u001b[1;33m\u001b[0m\u001b[0m\n",
      "\u001b[0;31mNameError\u001b[0m: name 'tuples' is not defined"
     ]
    }
   ],
   "source": [
    "result = 0\n",
    "totals = []\n",
    "\n",
    "with open(\"numbers.dat\", \"r\") as f:\n",
    "    for item in f:\n",
    "        numbers = item.strip().split(',')\n",
    "        intgrs = list(map(tuples, numbers))\n",
    "        \n",
    "        totals.append(sum(intgrs))\n",
    "totals = tuple(totals)\n",
    "print(totals)"
   ]
  },
  {
   "cell_type": "code",
   "execution_count": 10,
   "metadata": {
    "collapsed": false
   },
   "outputs": [
    {
     "ename": "TypeError",
     "evalue": "unsupported operand type(s) for +: 'int' and 'tuple'",
     "output_type": "error",
     "traceback": [
      "\u001b[0;31m---------------------------------------------------------------------------\u001b[0m",
      "\u001b[0;31mTypeError\u001b[0m                                 Traceback (most recent call last)",
      "\u001b[0;32m<ipython-input-10-505579c11c25>\u001b[0m in \u001b[0;36m<module>\u001b[0;34m()\u001b[0m\n\u001b[1;32m      7\u001b[0m         \u001b[0mintgrs\u001b[0m \u001b[1;33m=\u001b[0m \u001b[0mlist\u001b[0m\u001b[1;33m(\u001b[0m\u001b[0mmap\u001b[0m\u001b[1;33m(\u001b[0m\u001b[0mtuple\u001b[0m\u001b[1;33m,\u001b[0m \u001b[0mnumbers\u001b[0m\u001b[1;33m)\u001b[0m\u001b[1;33m)\u001b[0m\u001b[1;33m\u001b[0m\u001b[0m\n\u001b[1;32m      8\u001b[0m \u001b[1;33m\u001b[0m\u001b[0m\n\u001b[0;32m----> 9\u001b[0;31m         \u001b[0mtotals\u001b[0m\u001b[1;33m.\u001b[0m\u001b[0mappend\u001b[0m\u001b[1;33m(\u001b[0m\u001b[0msum\u001b[0m\u001b[1;33m(\u001b[0m\u001b[0mintgrs\u001b[0m\u001b[1;33m)\u001b[0m\u001b[1;33m)\u001b[0m\u001b[1;33m\u001b[0m\u001b[0m\n\u001b[0m\u001b[1;32m     10\u001b[0m \u001b[0mtotals\u001b[0m \u001b[1;33m=\u001b[0m \u001b[0mtuple\u001b[0m\u001b[1;33m(\u001b[0m\u001b[0mtotals\u001b[0m\u001b[1;33m)\u001b[0m\u001b[1;33m\u001b[0m\u001b[0m\n\u001b[1;32m     11\u001b[0m \u001b[0mprint\u001b[0m\u001b[1;33m(\u001b[0m\u001b[0mtotals\u001b[0m\u001b[1;33m)\u001b[0m\u001b[1;33m\u001b[0m\u001b[0m\n",
      "\u001b[0;31mTypeError\u001b[0m: unsupported operand type(s) for +: 'int' and 'tuple'"
     ]
    }
   ],
   "source": [
    "result = 0\n",
    "totals = []\n",
    "\n",
    "with open(\"numbers.dat\", \"r\") as f:\n",
    "    for item in f:\n",
    "        numbers = item.strip().split(',')\n",
    "        intgrs = list(map(tuple, numbers))\n",
    "        \n",
    "        \n",
    "totals = tuple(totals)\n",
    "print(totals)"
   ]
  },
  {
   "cell_type": "code",
   "execution_count": 11,
   "metadata": {
    "collapsed": false
   },
   "outputs": [
    {
     "name": "stdout",
     "output_type": "stream",
     "text": [
      "()\n"
     ]
    }
   ],
   "source": [
    "result = 0\n",
    "totals = []\n",
    "\n",
    "with open(\"numbers.dat\", \"r\") as f:\n",
    "    for item in f:\n",
    "        numbers = item.strip().split(',')\n",
    "        intgrs = list(map(tuple, numbers))\n",
    "        \n",
    "        \n",
    "totals = tuple(totals)\n",
    "print(totals)"
   ]
  },
  {
   "cell_type": "code",
   "execution_count": 12,
   "metadata": {
    "collapsed": false
   },
   "outputs": [
    {
     "ename": "NameError",
     "evalue": "name 'pritn' is not defined",
     "output_type": "error",
     "traceback": [
      "\u001b[0;31m---------------------------------------------------------------------------\u001b[0m",
      "\u001b[0;31mNameError\u001b[0m                                 Traceback (most recent call last)",
      "\u001b[0;32m<ipython-input-12-1dd3918a9fc3>\u001b[0m in \u001b[0;36m<module>\u001b[0;34m()\u001b[0m\n\u001b[1;32m      6\u001b[0m         \u001b[0mnumbers\u001b[0m \u001b[1;33m=\u001b[0m \u001b[0mitem\u001b[0m\u001b[1;33m.\u001b[0m\u001b[0mstrip\u001b[0m\u001b[1;33m(\u001b[0m\u001b[1;33m)\u001b[0m\u001b[1;33m.\u001b[0m\u001b[0msplit\u001b[0m\u001b[1;33m(\u001b[0m\u001b[1;34m','\u001b[0m\u001b[1;33m)\u001b[0m\u001b[1;33m\u001b[0m\u001b[0m\n\u001b[1;32m      7\u001b[0m         \u001b[0mintgrs\u001b[0m \u001b[1;33m=\u001b[0m \u001b[0mlist\u001b[0m\u001b[1;33m(\u001b[0m\u001b[0mmap\u001b[0m\u001b[1;33m(\u001b[0m\u001b[0mtuple\u001b[0m\u001b[1;33m,\u001b[0m \u001b[0mnumbers\u001b[0m\u001b[1;33m)\u001b[0m\u001b[1;33m)\u001b[0m\u001b[1;33m\u001b[0m\u001b[0m\n\u001b[0;32m----> 8\u001b[0;31m         \u001b[0mpritn\u001b[0m\u001b[1;33m(\u001b[0m\u001b[0mintgrs\u001b[0m\u001b[1;33m)\u001b[0m\u001b[1;33m\u001b[0m\u001b[0m\n\u001b[0m\u001b[1;32m      9\u001b[0m \u001b[1;33m\u001b[0m\u001b[0m\n\u001b[1;32m     10\u001b[0m \u001b[0mtotals\u001b[0m \u001b[1;33m=\u001b[0m \u001b[0mtuple\u001b[0m\u001b[1;33m(\u001b[0m\u001b[0mtotals\u001b[0m\u001b[1;33m)\u001b[0m\u001b[1;33m\u001b[0m\u001b[0m\n",
      "\u001b[0;31mNameError\u001b[0m: name 'pritn' is not defined"
     ]
    }
   ],
   "source": [
    "result = 0\n",
    "totals = []\n",
    "\n",
    "with open(\"numbers.dat\", \"r\") as f:\n",
    "    for item in f:\n",
    "        numbers = item.strip().split(',')\n",
    "        intgrs = list(map(tuple, numbers))\n",
    "        pritn(intgrs)\n",
    "        \n",
    "totals = tuple(totals)\n",
    "print(totals)"
   ]
  },
  {
   "cell_type": "code",
   "execution_count": 13,
   "metadata": {
    "collapsed": false
   },
   "outputs": [
    {
     "ename": "NameError",
     "evalue": "name 'grs' is not defined",
     "output_type": "error",
     "traceback": [
      "\u001b[0;31m---------------------------------------------------------------------------\u001b[0m",
      "\u001b[0;31mNameError\u001b[0m                                 Traceback (most recent call last)",
      "\u001b[0;32m<ipython-input-13-a20a37445949>\u001b[0m in \u001b[0;36m<module>\u001b[0;34m()\u001b[0m\n\u001b[1;32m      6\u001b[0m         \u001b[0mnumbers\u001b[0m \u001b[1;33m=\u001b[0m \u001b[0mitem\u001b[0m\u001b[1;33m.\u001b[0m\u001b[0mstrip\u001b[0m\u001b[1;33m(\u001b[0m\u001b[1;33m)\u001b[0m\u001b[1;33m.\u001b[0m\u001b[0msplit\u001b[0m\u001b[1;33m(\u001b[0m\u001b[1;34m','\u001b[0m\u001b[1;33m)\u001b[0m\u001b[1;33m\u001b[0m\u001b[0m\n\u001b[1;32m      7\u001b[0m         \u001b[0mintgrs\u001b[0m \u001b[1;33m=\u001b[0m \u001b[0mlist\u001b[0m\u001b[1;33m(\u001b[0m\u001b[0mmap\u001b[0m\u001b[1;33m(\u001b[0m\u001b[0mtuple\u001b[0m\u001b[1;33m,\u001b[0m \u001b[0mnumbers\u001b[0m\u001b[1;33m)\u001b[0m\u001b[1;33m)\u001b[0m\u001b[1;33m\u001b[0m\u001b[0m\n\u001b[0;32m----> 8\u001b[0;31m         \u001b[0mprint\u001b[0m\u001b[1;33m(\u001b[0m\u001b[0mgrs\u001b[0m\u001b[1;33m)\u001b[0m\u001b[1;33m\u001b[0m\u001b[0m\n\u001b[0m\u001b[1;32m      9\u001b[0m \u001b[1;33m\u001b[0m\u001b[0m\n\u001b[1;32m     10\u001b[0m \u001b[0mtotals\u001b[0m \u001b[1;33m=\u001b[0m \u001b[0mtuple\u001b[0m\u001b[1;33m(\u001b[0m\u001b[0mtotals\u001b[0m\u001b[1;33m)\u001b[0m\u001b[1;33m\u001b[0m\u001b[0m\n",
      "\u001b[0;31mNameError\u001b[0m: name 'grs' is not defined"
     ]
    }
   ],
   "source": [
    "result = 0\n",
    "totals = []\n",
    "\n",
    "with open(\"numbers.dat\", \"r\") as f:\n",
    "    for item in f:\n",
    "        numbers = item.strip().split(',')\n",
    "        intgrs = list(map(tuple, numbers))\n",
    "        print(grs)\n",
    "        \n",
    "totals = tuple(totals)\n",
    "print(totals)"
   ]
  },
  {
   "cell_type": "code",
   "execution_count": 15,
   "metadata": {
    "collapsed": false
   },
   "outputs": [
    {
     "name": "stdout",
     "output_type": "stream",
     "text": [
      "[('1',), ('2',), ('3',)]\n",
      "[('4',), ('5',), ('6',)]\n",
      "[('7',), ('8',), ('9',)]\n",
      "[('1', '0'), ('1', '1'), ('1', '2')]\n",
      "()\n"
     ]
    }
   ],
   "source": [
    "result = 0\n",
    "totals = []\n",
    "\n",
    "with open(\"numbers.dat\", \"r\") as f:\n",
    "    for item in f:\n",
    "        numbers = item.strip().split(',')\n",
    "        intgrs = list(map(tuple, numbers))\n",
    "        print(intgrs)\n",
    "        \n",
    "totals = tuple(totals)\n",
    "print(totals)"
   ]
  },
  {
   "cell_type": "code",
   "execution_count": 16,
   "metadata": {
    "collapsed": false
   },
   "outputs": [
    {
     "name": "stdout",
     "output_type": "stream",
     "text": [
      "[1, 2, 3]\n",
      "[4, 5, 6]\n",
      "[7, 8, 9]\n",
      "[10, 11, 12]\n",
      "()\n"
     ]
    }
   ],
   "source": [
    "result = 0\n",
    "totals = []\n",
    "\n",
    "with open(\"numbers.dat\", \"r\") as f:\n",
    "    for item in f:\n",
    "        numbers = item.strip().split(',')\n",
    "        intgrs = list(map(int, numbers))\n",
    "        print(intgrs)\n",
    "        \n",
    "totals = tuple(totals)\n",
    "print(totals)"
   ]
  },
  {
   "cell_type": "code",
   "execution_count": 18,
   "metadata": {
    "collapsed": false
   },
   "outputs": [
    {
     "name": "stdout",
     "output_type": "stream",
     "text": [
      "[1, 2, 3]\n",
      "[4, 5, 6]\n",
      "[7, 8, 9]\n",
      "[10, 11, 12]\n",
      "()\n"
     ]
    }
   ],
   "source": [
    "result = 0\n",
    "totals = []\n",
    "\n",
    "with open(\"numbers.dat\", \"r\") as f:\n",
    "    for item in f:\n",
    "        numbers = item.strip().split(',')\n",
    "        intgrs = list(map(int, numbers))\n",
    "        print(intgrs)\n",
    "        \n",
    "totals = tuple(totals)\n",
    "print(totals)"
   ]
  },
  {
   "cell_type": "code",
   "execution_count": 19,
   "metadata": {
    "collapsed": false
   },
   "outputs": [
    {
     "name": "stdout",
     "output_type": "stream",
     "text": [
      "(1, 2, 3)\n",
      "(4, 5, 6)\n",
      "(7, 8, 9)\n",
      "(10, 11, 12)\n",
      "()\n"
     ]
    }
   ],
   "source": [
    "result = 0\n",
    "totals = []\n",
    "\n",
    "with open(\"numbers.dat\", \"r\") as f:\n",
    "    for item in f:\n",
    "        numbers = item.strip().split(',')\n",
    "        intgrs = tuple(map(int, numbers))\n",
    "        print(intgrs)\n",
    "        \n",
    "totals = tuple(totals)\n",
    "print(totals)"
   ]
  },
  {
   "cell_type": "code",
   "execution_count": 21,
   "metadata": {
    "collapsed": false
   },
   "outputs": [
    {
     "name": "stdout",
     "output_type": "stream",
     "text": [
      "[1, 2, 3]\n",
      "[4, 5, 6]\n",
      "[7, 8, 9]\n",
      "[10, 11, 12]\n",
      "()\n"
     ]
    }
   ],
   "source": [
    "result = 0\n",
    "totals = []\n",
    "\n",
    "with open(\"numbers.dat\", \"r\") as f:\n",
    "    for item in f:\n",
    "        numbers = item.strip().split(',')\n",
    "        intgrs = list(tuple(map(int, numbers)))\n",
    "        print(intgrs)\n",
    "        \n",
    "totals = tuple(totals)\n",
    "print(totals)"
   ]
  },
  {
   "cell_type": "code",
   "execution_count": 22,
   "metadata": {
    "collapsed": false
   },
   "outputs": [
    {
     "name": "stdout",
     "output_type": "stream",
     "text": [
      "(1, 2, 3)\n",
      "(4, 5, 6)\n",
      "(7, 8, 9)\n",
      "(10, 11, 12)\n",
      "()\n"
     ]
    }
   ],
   "source": [
    "result = 0\n",
    "totals = []\n",
    "tup_list = []\n",
    "\n",
    "with open(\"numbers.dat\", \"r\") as f:\n",
    "    for item in f:\n",
    "        numbers = item.strip().split(',')\n",
    "        intgrs = tuple(map(int, numbers))\n",
    "        tup_list.append(tuple(intgrs))  \n",
    "        print(intgrs)\n",
    "        \n",
    "totals = tuple(totals)\n",
    "print(totals)"
   ]
  },
  {
   "cell_type": "code",
   "execution_count": 23,
   "metadata": {
    "collapsed": false
   },
   "outputs": [
    {
     "name": "stdout",
     "output_type": "stream",
     "text": [
      "[(1, 2, 3), (4, 5, 6), (7, 8, 9), (10, 11, 12)]\n"
     ]
    }
   ],
   "source": [
    "print(tup_list)"
   ]
  },
  {
   "cell_type": "code",
   "execution_count": 26,
   "metadata": {
    "collapsed": false
   },
   "outputs": [
    {
     "name": "stdout",
     "output_type": "stream",
     "text": [
      "[(1, 2, 3)]\n",
      "[(1, 2, 3), (4, 5, 6)]\n",
      "[(1, 2, 3), (4, 5, 6), (7, 8, 9)]\n",
      "[(1, 2, 3), (4, 5, 6), (7, 8, 9), (10, 11, 12)]\n",
      "[(1, 2, 3), (4, 5, 6), (7, 8, 9), (10, 11, 12)]\n",
      "[]\n"
     ]
    }
   ],
   "source": [
    "result = 0\n",
    "totals = []\n",
    "tup_list = []\n",
    "\n",
    "with open(\"numbers.dat\", \"r\") as f:\n",
    "    for item in f:\n",
    "        numbers = item.strip().split(',')\n",
    "        intgrs = tuple(map(int, numbers))\n",
    "        tup_list.append(tuple(tuple(map(int, numbers))))  \n",
    "        print(tup_list)\n",
    "        \n",
    "print(tup_list)\n",
    "print(totals)"
   ]
  },
  {
   "cell_type": "code",
   "execution_count": 29,
   "metadata": {
    "collapsed": false
   },
   "outputs": [
    {
     "name": "stdout",
     "output_type": "stream",
     "text": [
      "[(1, 2, 3), (4, 5, 6), (7, 8, 9), (10, 11, 12)]\n"
     ]
    }
   ],
   "source": [
    "result = 0\n",
    "totals = []\n",
    "tup_list = []\n",
    "\n",
    "with open(\"numbers.dat\", \"r\") as f:\n",
    "    for item in f:\n",
    "        numbers = item.strip().split(',')\n",
    "        tup_list.append(tuple(tuple(map(int, numbers))))  \n",
    "              \n",
    "print(tup_list)\n"
   ]
  },
  {
   "cell_type": "code",
   "execution_count": 31,
   "metadata": {
    "collapsed": false
   },
   "outputs": [
    {
     "ename": "SyntaxError",
     "evalue": "invalid syntax (<ipython-input-31-662546fcd543>, line 7)",
     "output_type": "error",
     "traceback": [
      "\u001b[0;36m  File \u001b[0;32m\"<ipython-input-31-662546fcd543>\"\u001b[0;36m, line \u001b[0;32m7\u001b[0m\n\u001b[0;31m    tup_list.append(tuple(map(int, item.strip().split(',')))))\u001b[0m\n\u001b[0m                                                             ^\u001b[0m\n\u001b[0;31mSyntaxError\u001b[0m\u001b[0;31m:\u001b[0m invalid syntax\n"
     ]
    }
   ],
   "source": [
    "result = 0\n",
    "totals = []\n",
    "tup_list = []\n",
    "\n",
    "with open(\"numbers.dat\", \"r\") as f:\n",
    "    for item in f:\n",
    "        tup_list.append(tuple(map(int, item.strip().split(',')))))  \n",
    "              \n",
    "print(tup_list)"
   ]
  },
  {
   "cell_type": "code",
   "execution_count": 32,
   "metadata": {
    "collapsed": false
   },
   "outputs": [
    {
     "name": "stdout",
     "output_type": "stream",
     "text": [
      "[(1, 2, 3), (4, 5, 6), (7, 8, 9), (10, 11, 12)]\n"
     ]
    }
   ],
   "source": [
    "result = 0\n",
    "totals = []\n",
    "tup_list = []\n",
    "\n",
    "with open(\"numbers.dat\", \"r\") as f:\n",
    "    for item in f:\n",
    "        tup_list.append(tuple(tuple(map(int, item.strip().split(',')))))  \n",
    "              \n",
    "print(tup_list)"
   ]
  },
  {
   "cell_type": "code",
   "execution_count": null,
   "metadata": {
    "collapsed": true
   },
   "outputs": [],
   "source": []
  }
 ],
 "metadata": {
  "kernelspec": {
   "display_name": "Python 3",
   "language": "python",
   "name": "python3"
  },
  "language_info": {
   "codemirror_mode": {
    "name": "ipython",
    "version": 3
   },
   "file_extension": ".py",
   "mimetype": "text/x-python",
   "name": "python",
   "nbconvert_exporter": "python",
   "pygments_lexer": "ipython3",
   "version": "3.6.0"
  }
 },
 "nbformat": 4,
 "nbformat_minor": 2
}
